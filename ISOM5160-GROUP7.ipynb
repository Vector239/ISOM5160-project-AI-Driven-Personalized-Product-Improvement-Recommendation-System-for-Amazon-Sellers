{
 "cells": [
  {
   "metadata": {
    "collapsed": true,
    "ExecuteTime": {
     "end_time": "2025-09-17T10:19:41.162414Z",
     "start_time": "2025-09-17T10:19:39.284345Z"
    }
   },
   "cell_type": "code",
   "source": [
    "# Run first to install requirements\n",
    "!pip install -r requirements.txt\n",
    "\n",
    "# Run this to speed up the data scraping process\n",
    "!unzip -oq new_data.zip"
   ],
   "id": "initial_id",
   "outputs": [],
   "execution_count": 91
  },
  {
   "metadata": {
    "ExecuteTime": {
     "end_time": "2025-09-16T03:54:28.251006Z",
     "start_time": "2025-09-16T03:54:28.059743Z"
    }
   },
   "cell_type": "code",
   "source": [
    "from amazon_new_data_scraping import parallel_scrape_amazon_product_info, load_all_data_as_dataframe\n",
    "import pandas as pd\n",
    "\n",
    "df_amazon_food_reviews = pd.read_csv('amazon_food_reviews.csv', converters={\n",
    "    \"Time\": lambda x: pd.to_datetime(int(x), unit=\"s\")  # 如果是秒\n",
    "})"
   ],
   "id": "96ff14f8727ce43f",
   "outputs": [],
   "execution_count": 3
  },
  {
   "metadata": {
    "ExecuteTime": {
     "end_time": "2025-09-16T03:53:59.395439Z",
     "start_time": "2025-09-16T03:53:58.152701Z"
    }
   },
   "cell_type": "code",
   "source": [
    "product_id_list = list(df_amazon_food_reviews.ProductId.unique())\n",
    "print(f\"Total number of products: {len(product_id_list)}\")\n",
    "print(\"Start scraping data...\")\n",
    "parallel_scrape_amazon_product_info(product_id_list, replace=False)\n",
    "print(\"Scraping finished.\")"
   ],
   "id": "9f3c3bdd7fe6b7c9",
   "outputs": [
    {
     "name": "stdout",
     "output_type": "stream",
     "text": [
      "Total number of products: 4322\n",
      "Start scraping data...\n",
      "Using 12 CPU cores for parallel scraping\n"
     ]
    },
    {
     "name": "stderr",
     "output_type": "stream",
     "text": [
      "Scraping amazon products: 100%|██████████| 4322/4322 [00:01<00:00, 4287.96it/s]"
     ]
    },
    {
     "name": "stdout",
     "output_type": "stream",
     "text": [
      "Successfully scraped 4322/4322 products\n",
      "Scraping finished.\n"
     ]
    },
    {
     "name": "stderr",
     "output_type": "stream",
     "text": [
      "\n"
     ]
    }
   ],
   "execution_count": 2
  },
  {
   "metadata": {
    "ExecuteTime": {
     "end_time": "2025-09-17T08:25:42.226948Z",
     "start_time": "2025-09-17T08:25:42.220582Z"
    }
   },
   "cell_type": "code",
   "source": "df_amazon_food_reviews",
   "id": "9653376676599bfe",
   "outputs": [
    {
     "data": {
      "text/plain": [
       "           Id   ProductId          UserId  \\\n",
       "0         350  B00067AD4U  A2LYOWC3FC73XK   \n",
       "1         439  B000G6RYNE   A926YP1BSD72Y   \n",
       "2         446  B000G6RYNE  A19G8B2QYETD7W   \n",
       "3         448  B000G6RYNE   ACFPHOYVB71V4   \n",
       "4         452  B000G6RYNE  A2MUGFV2TDQ47K   \n",
       "...       ...         ...             ...   \n",
       "10823  567410  B000G6Q4FI  A1KSQOZY8AFWUJ   \n",
       "10824  567415  B000G6Q4FI  A1SG2JGJ8ZOR69   \n",
       "10825  567416  B000G6Q4FI  A1INLQGL1U8EDF   \n",
       "10826  568096  B000EICISA   AZCH2U6NJMUSG   \n",
       "10827  568100  B000EICISA   A945RBQWGZXCK   \n",
       "\n",
       "                                 ProfileName  HelpfulnessNumerator  \\\n",
       "0      Michael Ekstrum \"\"expresso bean fan\"\"                     1   \n",
       "1                                  Shopper11                     0   \n",
       "2                                   NyahNyah                     0   \n",
       "3                                      karob                     0   \n",
       "4                      Lynrie \"\"Oh HELL no\"\"                     0   \n",
       "...                                      ...                   ...   \n",
       "10823                                   Paul                     0   \n",
       "10824                                Nish P.                     0   \n",
       "10825                                   H.L.                     0   \n",
       "10826                J. Poling \"\"mrfxmanis\"\"                     4   \n",
       "10827                                 Cheryl                     0   \n",
       "\n",
       "       HelpfulnessDenominator  Score       Time  \\\n",
       "0                           1      5 2007-05-12   \n",
       "1                           0      5 2011-11-20   \n",
       "2                           0      3 2011-02-13   \n",
       "3                           0      5 2010-12-18   \n",
       "4                           0      3 2010-11-05   \n",
       "...                       ...    ...        ...   \n",
       "10823                       0      5 2007-07-12   \n",
       "10824                       2      3 2010-11-11   \n",
       "10825                       2      5 2008-01-14   \n",
       "10826                       4      5 2012-01-30   \n",
       "10827                       0      5 2012-09-17   \n",
       "\n",
       "                                   Summary  \\\n",
       "0      excellent - exactly what I expected   \n",
       "1        Best gluten-free dairy-free chips   \n",
       "2                     Heavy on the Vinegar   \n",
       "3                    BEST BUY in BBQ Chips   \n",
       "4                        An Acquired Taste   \n",
       "...                                    ...   \n",
       "10823           One of the healthier chips   \n",
       "10824                               Meh...   \n",
       "10825                         Kettle Chips   \n",
       "10826             American Recipe For This   \n",
       "10827                         Great flavor   \n",
       "\n",
       "                                                    Text  \n",
       "0      The product was exactly as advertised and fres...  \n",
       "1      These are my favorite gluten-free dairy-free f...  \n",
       "2      I usually love Kettle Chips, and love salt & v...  \n",
       "3      Tried many varieties of BBQ chips and hands do...  \n",
       "4      OK,I did read the reviews which ranged from sp...  \n",
       "...                                                  ...  \n",
       "10823  Simple, uncomplicated and healthy ingredients....  \n",
       "10824  The Buffalo Bleu flavor isn't that great, at l...  \n",
       "10825  We were very pleased to find that Kettle Chips...  \n",
       "10826  This is a very good product but i had problems...  \n",
       "10827  I've purchased different curries in the grocer...  \n",
       "\n",
       "[10828 rows x 10 columns]"
      ],
      "text/html": [
       "<div>\n",
       "<style scoped>\n",
       "    .dataframe tbody tr th:only-of-type {\n",
       "        vertical-align: middle;\n",
       "    }\n",
       "\n",
       "    .dataframe tbody tr th {\n",
       "        vertical-align: top;\n",
       "    }\n",
       "\n",
       "    .dataframe thead th {\n",
       "        text-align: right;\n",
       "    }\n",
       "</style>\n",
       "<table border=\"1\" class=\"dataframe\">\n",
       "  <thead>\n",
       "    <tr style=\"text-align: right;\">\n",
       "      <th></th>\n",
       "      <th>Id</th>\n",
       "      <th>ProductId</th>\n",
       "      <th>UserId</th>\n",
       "      <th>ProfileName</th>\n",
       "      <th>HelpfulnessNumerator</th>\n",
       "      <th>HelpfulnessDenominator</th>\n",
       "      <th>Score</th>\n",
       "      <th>Time</th>\n",
       "      <th>Summary</th>\n",
       "      <th>Text</th>\n",
       "    </tr>\n",
       "  </thead>\n",
       "  <tbody>\n",
       "    <tr>\n",
       "      <th>0</th>\n",
       "      <td>350</td>\n",
       "      <td>B00067AD4U</td>\n",
       "      <td>A2LYOWC3FC73XK</td>\n",
       "      <td>Michael Ekstrum \"\"expresso bean fan\"\"</td>\n",
       "      <td>1</td>\n",
       "      <td>1</td>\n",
       "      <td>5</td>\n",
       "      <td>2007-05-12</td>\n",
       "      <td>excellent - exactly what I expected</td>\n",
       "      <td>The product was exactly as advertised and fres...</td>\n",
       "    </tr>\n",
       "    <tr>\n",
       "      <th>1</th>\n",
       "      <td>439</td>\n",
       "      <td>B000G6RYNE</td>\n",
       "      <td>A926YP1BSD72Y</td>\n",
       "      <td>Shopper11</td>\n",
       "      <td>0</td>\n",
       "      <td>0</td>\n",
       "      <td>5</td>\n",
       "      <td>2011-11-20</td>\n",
       "      <td>Best gluten-free dairy-free chips</td>\n",
       "      <td>These are my favorite gluten-free dairy-free f...</td>\n",
       "    </tr>\n",
       "    <tr>\n",
       "      <th>2</th>\n",
       "      <td>446</td>\n",
       "      <td>B000G6RYNE</td>\n",
       "      <td>A19G8B2QYETD7W</td>\n",
       "      <td>NyahNyah</td>\n",
       "      <td>0</td>\n",
       "      <td>0</td>\n",
       "      <td>3</td>\n",
       "      <td>2011-02-13</td>\n",
       "      <td>Heavy on the Vinegar</td>\n",
       "      <td>I usually love Kettle Chips, and love salt &amp; v...</td>\n",
       "    </tr>\n",
       "    <tr>\n",
       "      <th>3</th>\n",
       "      <td>448</td>\n",
       "      <td>B000G6RYNE</td>\n",
       "      <td>ACFPHOYVB71V4</td>\n",
       "      <td>karob</td>\n",
       "      <td>0</td>\n",
       "      <td>0</td>\n",
       "      <td>5</td>\n",
       "      <td>2010-12-18</td>\n",
       "      <td>BEST BUY in BBQ Chips</td>\n",
       "      <td>Tried many varieties of BBQ chips and hands do...</td>\n",
       "    </tr>\n",
       "    <tr>\n",
       "      <th>4</th>\n",
       "      <td>452</td>\n",
       "      <td>B000G6RYNE</td>\n",
       "      <td>A2MUGFV2TDQ47K</td>\n",
       "      <td>Lynrie \"\"Oh HELL no\"\"</td>\n",
       "      <td>0</td>\n",
       "      <td>0</td>\n",
       "      <td>3</td>\n",
       "      <td>2010-11-05</td>\n",
       "      <td>An Acquired Taste</td>\n",
       "      <td>OK,I did read the reviews which ranged from sp...</td>\n",
       "    </tr>\n",
       "    <tr>\n",
       "      <th>...</th>\n",
       "      <td>...</td>\n",
       "      <td>...</td>\n",
       "      <td>...</td>\n",
       "      <td>...</td>\n",
       "      <td>...</td>\n",
       "      <td>...</td>\n",
       "      <td>...</td>\n",
       "      <td>...</td>\n",
       "      <td>...</td>\n",
       "      <td>...</td>\n",
       "    </tr>\n",
       "    <tr>\n",
       "      <th>10823</th>\n",
       "      <td>567410</td>\n",
       "      <td>B000G6Q4FI</td>\n",
       "      <td>A1KSQOZY8AFWUJ</td>\n",
       "      <td>Paul</td>\n",
       "      <td>0</td>\n",
       "      <td>0</td>\n",
       "      <td>5</td>\n",
       "      <td>2007-07-12</td>\n",
       "      <td>One of the healthier chips</td>\n",
       "      <td>Simple, uncomplicated and healthy ingredients....</td>\n",
       "    </tr>\n",
       "    <tr>\n",
       "      <th>10824</th>\n",
       "      <td>567415</td>\n",
       "      <td>B000G6Q4FI</td>\n",
       "      <td>A1SG2JGJ8ZOR69</td>\n",
       "      <td>Nish P.</td>\n",
       "      <td>0</td>\n",
       "      <td>2</td>\n",
       "      <td>3</td>\n",
       "      <td>2010-11-11</td>\n",
       "      <td>Meh...</td>\n",
       "      <td>The Buffalo Bleu flavor isn't that great, at l...</td>\n",
       "    </tr>\n",
       "    <tr>\n",
       "      <th>10825</th>\n",
       "      <td>567416</td>\n",
       "      <td>B000G6Q4FI</td>\n",
       "      <td>A1INLQGL1U8EDF</td>\n",
       "      <td>H.L.</td>\n",
       "      <td>0</td>\n",
       "      <td>2</td>\n",
       "      <td>5</td>\n",
       "      <td>2008-01-14</td>\n",
       "      <td>Kettle Chips</td>\n",
       "      <td>We were very pleased to find that Kettle Chips...</td>\n",
       "    </tr>\n",
       "    <tr>\n",
       "      <th>10826</th>\n",
       "      <td>568096</td>\n",
       "      <td>B000EICISA</td>\n",
       "      <td>AZCH2U6NJMUSG</td>\n",
       "      <td>J. Poling \"\"mrfxmanis\"\"</td>\n",
       "      <td>4</td>\n",
       "      <td>4</td>\n",
       "      <td>5</td>\n",
       "      <td>2012-01-30</td>\n",
       "      <td>American Recipe For This</td>\n",
       "      <td>This is a very good product but i had problems...</td>\n",
       "    </tr>\n",
       "    <tr>\n",
       "      <th>10827</th>\n",
       "      <td>568100</td>\n",
       "      <td>B000EICISA</td>\n",
       "      <td>A945RBQWGZXCK</td>\n",
       "      <td>Cheryl</td>\n",
       "      <td>0</td>\n",
       "      <td>0</td>\n",
       "      <td>5</td>\n",
       "      <td>2012-09-17</td>\n",
       "      <td>Great flavor</td>\n",
       "      <td>I've purchased different curries in the grocer...</td>\n",
       "    </tr>\n",
       "  </tbody>\n",
       "</table>\n",
       "<p>10828 rows × 10 columns</p>\n",
       "</div>"
      ]
     },
     "execution_count": 87,
     "metadata": {},
     "output_type": "execute_result"
    }
   ],
   "execution_count": 87
  },
  {
   "metadata": {
    "ExecuteTime": {
     "end_time": "2025-09-17T08:34:03.290167Z",
     "start_time": "2025-09-17T08:34:03.278652Z"
    }
   },
   "cell_type": "code",
   "source": [
    "df_amazon_food_reviews.pivot_table(index=['UserId'], values=['ProductId'], aggfunc='count').sort_values(\n",
    "    \"ProductId\", ascending=False)"
   ],
   "id": "75f56617756cfe01",
   "outputs": [
    {
     "data": {
      "text/plain": [
       "                ProductId\n",
       "UserId                   \n",
       "A281NPSIMI1C2R         17\n",
       "A1YUL9PCJR3JTY         16\n",
       "A3OXHLG6DIBRW8         11\n",
       "AJD41FBJD9010          11\n",
       "A2OWR2PL3DLWS4         10\n",
       "...                   ...\n",
       "A2BPBHC8ZSELQ9          1\n",
       "A2BPGIPXP0N9ON          1\n",
       "A2BQWHZQ297351          1\n",
       "A2BSH0ZD2ATUHO          1\n",
       "AZZVNIMTTMJH6           1\n",
       "\n",
       "[9698 rows x 1 columns]"
      ],
      "text/html": [
       "<div>\n",
       "<style scoped>\n",
       "    .dataframe tbody tr th:only-of-type {\n",
       "        vertical-align: middle;\n",
       "    }\n",
       "\n",
       "    .dataframe tbody tr th {\n",
       "        vertical-align: top;\n",
       "    }\n",
       "\n",
       "    .dataframe thead th {\n",
       "        text-align: right;\n",
       "    }\n",
       "</style>\n",
       "<table border=\"1\" class=\"dataframe\">\n",
       "  <thead>\n",
       "    <tr style=\"text-align: right;\">\n",
       "      <th></th>\n",
       "      <th>ProductId</th>\n",
       "    </tr>\n",
       "    <tr>\n",
       "      <th>UserId</th>\n",
       "      <th></th>\n",
       "    </tr>\n",
       "  </thead>\n",
       "  <tbody>\n",
       "    <tr>\n",
       "      <th>A281NPSIMI1C2R</th>\n",
       "      <td>17</td>\n",
       "    </tr>\n",
       "    <tr>\n",
       "      <th>A1YUL9PCJR3JTY</th>\n",
       "      <td>16</td>\n",
       "    </tr>\n",
       "    <tr>\n",
       "      <th>A3OXHLG6DIBRW8</th>\n",
       "      <td>11</td>\n",
       "    </tr>\n",
       "    <tr>\n",
       "      <th>AJD41FBJD9010</th>\n",
       "      <td>11</td>\n",
       "    </tr>\n",
       "    <tr>\n",
       "      <th>A2OWR2PL3DLWS4</th>\n",
       "      <td>10</td>\n",
       "    </tr>\n",
       "    <tr>\n",
       "      <th>...</th>\n",
       "      <td>...</td>\n",
       "    </tr>\n",
       "    <tr>\n",
       "      <th>A2BPBHC8ZSELQ9</th>\n",
       "      <td>1</td>\n",
       "    </tr>\n",
       "    <tr>\n",
       "      <th>A2BPGIPXP0N9ON</th>\n",
       "      <td>1</td>\n",
       "    </tr>\n",
       "    <tr>\n",
       "      <th>A2BQWHZQ297351</th>\n",
       "      <td>1</td>\n",
       "    </tr>\n",
       "    <tr>\n",
       "      <th>A2BSH0ZD2ATUHO</th>\n",
       "      <td>1</td>\n",
       "    </tr>\n",
       "    <tr>\n",
       "      <th>AZZVNIMTTMJH6</th>\n",
       "      <td>1</td>\n",
       "    </tr>\n",
       "  </tbody>\n",
       "</table>\n",
       "<p>9698 rows × 1 columns</p>\n",
       "</div>"
      ]
     },
     "execution_count": 90,
     "metadata": {},
     "output_type": "execute_result"
    }
   ],
   "execution_count": 90
  },
  {
   "metadata": {},
   "cell_type": "code",
   "outputs": [],
   "execution_count": null,
   "source": "",
   "id": "a3ca1fa7f2901193"
  },
  {
   "metadata": {
    "ExecuteTime": {
     "end_time": "2025-09-17T08:18:51.101677Z",
     "start_time": "2025-09-17T08:18:50.487331Z"
    }
   },
   "cell_type": "code",
   "source": [
    "df_amazon_product_info = load_all_data_as_dataframe()\n",
    "df_amazon_product_info"
   ],
   "id": "f89923ee8af5227e",
   "outputs": [
    {
     "name": "stderr",
     "output_type": "stream",
     "text": [
      "100%|██████████| 4322/4322 [00:00<00:00, 7717.29it/s]\n"
     ]
    },
    {
     "data": {
      "text/plain": [
       "      product_id                                      product_title  \\\n",
       "0     B0007GFDP4                  Korean Seaweed 0.17oz5gea-4 Packs   \n",
       "1     B000EMEEHE  GIN GINS Original Ginger Chews by The Ginger P...   \n",
       "2     B000E671W0  Celestial Seasonings Peppermint Herbal Tea, Ca...   \n",
       "3     B000084E76       Kookamunga Krazee Kitty Catnip Bubbles, 5 oz   \n",
       "4     B0009TQC90  Golden Dragon - Finest Chrysanthemum Pu Erh Te...   \n",
       "...          ...                                                ...   \n",
       "3376  B0006VB3WC   Katz-n-Flocken All Life Stages Cat Food - 15 lbs   \n",
       "3377  B0001PB99K  Maker's Mark Bourbon Flavored Gourmet Cherries...   \n",
       "3378  B000EDDSES  Bob's Red Mill Old Country Style Muesli, 18oz ...   \n",
       "3379  B00004RBDW  TERRO T380 Outdoor Reusable Fly Magnet Fly Tra...   \n",
       "3380  B000F42EC8  Taylors of Harrogate Earl Grey, 50 Teabags (Pa...   \n",
       "\n",
       "                               byline_info  \\\n",
       "0                                Brand: JN   \n",
       "1        Visit the The Ginger People Store   \n",
       "2     Visit the Celestial Seasonings Store   \n",
       "3               Visit the KOOKAMUNGA Store   \n",
       "4                     Brand: Golden Dragon   \n",
       "...                                    ...   \n",
       "3376            Visit the Solid Gold Store   \n",
       "3377                                         \n",
       "3378        Visit the Bob's Red Mill Store   \n",
       "3379                 Visit the Terro Store   \n",
       "3380  Visit the Taylors of Harrogate Store   \n",
       "\n",
       "                                    product_description  \\\n",
       "0     Freshness Guaranteed Premium Seaweed Winter Ha...   \n",
       "1     Deliciously spicy-sweet chewy ginger candies m...   \n",
       "2     Nothing is more soothing than a cup of your fa...   \n",
       "3     Make your cats go wild with this fun product. ...   \n",
       "4     a specially selected of buds and young leaves ...   \n",
       "...                                                 ...   \n",
       "3376  Ideal for adult cats and kittens, to maintain ...   \n",
       "3377                                                      \n",
       "3378  Product Description   Old Country Style Muesli...   \n",
       "3379  Flies are an ever-present nuisance around home...   \n",
       "3380  Product Description   The elegant fragrance of...   \n",
       "\n",
       "                                               category  \\\n",
       "0     [Grocery & Gourmet Food, Pantry Staples, Cooki...   \n",
       "1     [Grocery & Gourmet Food, Snacks & Sweets, Cand...   \n",
       "2     [Grocery & Gourmet Food, Beverages, Tea, Fruit...   \n",
       "3               [Pet Supplies, Cats, Toys, Catnip Toys]   \n",
       "4       [Grocery & Gourmet Food, Beverages, Tea, Black]   \n",
       "...                                                 ...   \n",
       "3376                         [Pet Supplies, Cats, Food]   \n",
       "3377  [Grocery & Gourmet Food, Pantry Staples, Canne...   \n",
       "3378  [Grocery & Gourmet Food, Breakfast Cereal, Mue...   \n",
       "3379        [Patio, Lawn & Garden, Pest Control, Traps]   \n",
       "3380    [Grocery & Gourmet Food, Beverages, Tea, Black]   \n",
       "\n",
       "                                             alt_images  \\\n",
       "0     [https://m.media-amazon.com/images/I/51uDkERYg...   \n",
       "1     [https://m.media-amazon.com/images/I/41KQy5H4V...   \n",
       "2     [https://m.media-amazon.com/images/I/61iWD7RnS...   \n",
       "3     [https://m.media-amazon.com/images/I/4124SxrG1...   \n",
       "4     [https://m.media-amazon.com/images/I/51hGQNcQz...   \n",
       "...                                                 ...   \n",
       "3376  [https://m.media-amazon.com/images/I/517dkgAGm...   \n",
       "3377  [https://m.media-amazon.com/images/I/31CDQM754...   \n",
       "3378  [https://m.media-amazon.com/images/I/411xsw6he...   \n",
       "3379  [https://m.media-amazon.com/images/I/41ecsqa4Z...   \n",
       "3380  [https://m.media-amazon.com/images/I/41wxP0usj...   \n",
       "\n",
       "                                         product_detail  \\\n",
       "0     {'Product Dimensions': '6.1 x 3.35 x 2.3 inche...   \n",
       "1     {'Is Discontinued By Manufacturer': 'No', 'Pro...   \n",
       "2     {'Is Discontinued By Manufacturer': 'No', 'Pro...   \n",
       "3     {'Is Discontinued By Manufacturer': 'No', 'Pro...   \n",
       "4     {'Is Discontinued By Manufacturer': 'No', 'Pac...   \n",
       "...                                                 ...   \n",
       "3376  {'Is Discontinued By Manufacturer': 'No', 'Pro...   \n",
       "3377  {'Is Discontinued By Manufacturer': 'No', 'UPC...   \n",
       "3378  {'Is Discontinued By Manufacturer': 'No', 'Pro...   \n",
       "3379                                                 {}   \n",
       "3380  {'Is Discontinued By Manufacturer': 'No', 'Pro...   \n",
       "\n",
       "                                  important_information  \\\n",
       "0     {'Ingredients': 'Seaweed. non gmo com oil. non...   \n",
       "1     {'Safety Information': 'Made in a facility tha...   \n",
       "2     {'Safety Information': 'This product is labell...   \n",
       "3                                                    {}   \n",
       "4     {'Legal Disclaimer': 'Statements regarding die...   \n",
       "...                                                 ...   \n",
       "3376                                                 {}   \n",
       "3377  {'Legal Disclaimer': 'Statements regarding die...   \n",
       "3378  {'Ingredients': 'Whole Grain Wheat, Dates, Sun...   \n",
       "3379                                                 {}   \n",
       "3380  {'Safety Information': 'This product is labell...   \n",
       "\n",
       "                                                 rating  \\\n",
       "0     {'score': '3.8 out of 5', 'dist': {'5 star': '...   \n",
       "1     {'score': '3.2 out of 5', 'dist': {'5 star': '...   \n",
       "2     {'score': '4.8 out of 5', 'dist': {'5 star': '...   \n",
       "3     {'score': '3.2 out of 5', 'dist': {'5 star': '...   \n",
       "4     {'score': '3.2 out of 5', 'dist': {'5 star': '...   \n",
       "...                                                 ...   \n",
       "3376  {'score': '4.4 out of 5', 'dist': {'5 star': '...   \n",
       "3377  {'score': '4 out of 5', 'dist': {'5 star': '0%...   \n",
       "3378  {'score': '4.8 out of 5', 'dist': {'5 star': '...   \n",
       "3379  {'score': '4.2 out of 5', 'dist': {'5 star': '...   \n",
       "3380  {'score': '4.5 out of 5', 'dist': {'5 star': '...   \n",
       "\n",
       "                                           top_comments  \n",
       "0     [{'date': 'March 22, 2013', 'title': 'Best Tas...  \n",
       "1     [{'date': 'July 9, 2014', 'title': 'Truly Life...  \n",
       "2     [{'date': 'August 3, 2025', 'title': 'DELICIOU...  \n",
       "3     [{'date': 'July 17, 2015', 'title': 'My cat is...  \n",
       "4     [{'date': 'January 7, 2012', 'title': 'Not exa...  \n",
       "...                                                 ...  \n",
       "3376  [{'date': 'November 25, 2011', 'title': 'Katz-...  \n",
       "3377                                                 []  \n",
       "3378  [{'date': 'October 17, 2011', 'title': 'I Love...  \n",
       "3379  [{'date': 'July 22, 2025', 'title': 'It works!...  \n",
       "3380  [{'date': 'August 31, 2025', 'title': 'Smooth ...  \n",
       "\n",
       "[3381 rows x 10 columns]"
      ],
      "text/html": [
       "<div>\n",
       "<style scoped>\n",
       "    .dataframe tbody tr th:only-of-type {\n",
       "        vertical-align: middle;\n",
       "    }\n",
       "\n",
       "    .dataframe tbody tr th {\n",
       "        vertical-align: top;\n",
       "    }\n",
       "\n",
       "    .dataframe thead th {\n",
       "        text-align: right;\n",
       "    }\n",
       "</style>\n",
       "<table border=\"1\" class=\"dataframe\">\n",
       "  <thead>\n",
       "    <tr style=\"text-align: right;\">\n",
       "      <th></th>\n",
       "      <th>product_id</th>\n",
       "      <th>product_title</th>\n",
       "      <th>byline_info</th>\n",
       "      <th>product_description</th>\n",
       "      <th>category</th>\n",
       "      <th>alt_images</th>\n",
       "      <th>product_detail</th>\n",
       "      <th>important_information</th>\n",
       "      <th>rating</th>\n",
       "      <th>top_comments</th>\n",
       "    </tr>\n",
       "  </thead>\n",
       "  <tbody>\n",
       "    <tr>\n",
       "      <th>0</th>\n",
       "      <td>B0007GFDP4</td>\n",
       "      <td>Korean Seaweed 0.17oz5gea-4 Packs</td>\n",
       "      <td>Brand: JN</td>\n",
       "      <td>Freshness Guaranteed Premium Seaweed Winter Ha...</td>\n",
       "      <td>[Grocery &amp; Gourmet Food, Pantry Staples, Cooki...</td>\n",
       "      <td>[https://m.media-amazon.com/images/I/51uDkERYg...</td>\n",
       "      <td>{'Product Dimensions': '6.1 x 3.35 x 2.3 inche...</td>\n",
       "      <td>{'Ingredients': 'Seaweed. non gmo com oil. non...</td>\n",
       "      <td>{'score': '3.8 out of 5', 'dist': {'5 star': '...</td>\n",
       "      <td>[{'date': 'March 22, 2013', 'title': 'Best Tas...</td>\n",
       "    </tr>\n",
       "    <tr>\n",
       "      <th>1</th>\n",
       "      <td>B000EMEEHE</td>\n",
       "      <td>GIN GINS Original Ginger Chews by The Ginger P...</td>\n",
       "      <td>Visit the The Ginger People Store</td>\n",
       "      <td>Deliciously spicy-sweet chewy ginger candies m...</td>\n",
       "      <td>[Grocery &amp; Gourmet Food, Snacks &amp; Sweets, Cand...</td>\n",
       "      <td>[https://m.media-amazon.com/images/I/41KQy5H4V...</td>\n",
       "      <td>{'Is Discontinued By Manufacturer': 'No', 'Pro...</td>\n",
       "      <td>{'Safety Information': 'Made in a facility tha...</td>\n",
       "      <td>{'score': '3.2 out of 5', 'dist': {'5 star': '...</td>\n",
       "      <td>[{'date': 'July 9, 2014', 'title': 'Truly Life...</td>\n",
       "    </tr>\n",
       "    <tr>\n",
       "      <th>2</th>\n",
       "      <td>B000E671W0</td>\n",
       "      <td>Celestial Seasonings Peppermint Herbal Tea, Ca...</td>\n",
       "      <td>Visit the Celestial Seasonings Store</td>\n",
       "      <td>Nothing is more soothing than a cup of your fa...</td>\n",
       "      <td>[Grocery &amp; Gourmet Food, Beverages, Tea, Fruit...</td>\n",
       "      <td>[https://m.media-amazon.com/images/I/61iWD7RnS...</td>\n",
       "      <td>{'Is Discontinued By Manufacturer': 'No', 'Pro...</td>\n",
       "      <td>{'Safety Information': 'This product is labell...</td>\n",
       "      <td>{'score': '4.8 out of 5', 'dist': {'5 star': '...</td>\n",
       "      <td>[{'date': 'August 3, 2025', 'title': 'DELICIOU...</td>\n",
       "    </tr>\n",
       "    <tr>\n",
       "      <th>3</th>\n",
       "      <td>B000084E76</td>\n",
       "      <td>Kookamunga Krazee Kitty Catnip Bubbles, 5 oz</td>\n",
       "      <td>Visit the KOOKAMUNGA Store</td>\n",
       "      <td>Make your cats go wild with this fun product. ...</td>\n",
       "      <td>[Pet Supplies, Cats, Toys, Catnip Toys]</td>\n",
       "      <td>[https://m.media-amazon.com/images/I/4124SxrG1...</td>\n",
       "      <td>{'Is Discontinued By Manufacturer': 'No', 'Pro...</td>\n",
       "      <td>{}</td>\n",
       "      <td>{'score': '3.2 out of 5', 'dist': {'5 star': '...</td>\n",
       "      <td>[{'date': 'July 17, 2015', 'title': 'My cat is...</td>\n",
       "    </tr>\n",
       "    <tr>\n",
       "      <th>4</th>\n",
       "      <td>B0009TQC90</td>\n",
       "      <td>Golden Dragon - Finest Chrysanthemum Pu Erh Te...</td>\n",
       "      <td>Brand: Golden Dragon</td>\n",
       "      <td>a specially selected of buds and young leaves ...</td>\n",
       "      <td>[Grocery &amp; Gourmet Food, Beverages, Tea, Black]</td>\n",
       "      <td>[https://m.media-amazon.com/images/I/51hGQNcQz...</td>\n",
       "      <td>{'Is Discontinued By Manufacturer': 'No', 'Pac...</td>\n",
       "      <td>{'Legal Disclaimer': 'Statements regarding die...</td>\n",
       "      <td>{'score': '3.2 out of 5', 'dist': {'5 star': '...</td>\n",
       "      <td>[{'date': 'January 7, 2012', 'title': 'Not exa...</td>\n",
       "    </tr>\n",
       "    <tr>\n",
       "      <th>...</th>\n",
       "      <td>...</td>\n",
       "      <td>...</td>\n",
       "      <td>...</td>\n",
       "      <td>...</td>\n",
       "      <td>...</td>\n",
       "      <td>...</td>\n",
       "      <td>...</td>\n",
       "      <td>...</td>\n",
       "      <td>...</td>\n",
       "      <td>...</td>\n",
       "    </tr>\n",
       "    <tr>\n",
       "      <th>3376</th>\n",
       "      <td>B0006VB3WC</td>\n",
       "      <td>Katz-n-Flocken All Life Stages Cat Food - 15 lbs</td>\n",
       "      <td>Visit the Solid Gold Store</td>\n",
       "      <td>Ideal for adult cats and kittens, to maintain ...</td>\n",
       "      <td>[Pet Supplies, Cats, Food]</td>\n",
       "      <td>[https://m.media-amazon.com/images/I/517dkgAGm...</td>\n",
       "      <td>{'Is Discontinued By Manufacturer': 'No', 'Pro...</td>\n",
       "      <td>{}</td>\n",
       "      <td>{'score': '4.4 out of 5', 'dist': {'5 star': '...</td>\n",
       "      <td>[{'date': 'November 25, 2011', 'title': 'Katz-...</td>\n",
       "    </tr>\n",
       "    <tr>\n",
       "      <th>3377</th>\n",
       "      <td>B0001PB99K</td>\n",
       "      <td>Maker's Mark Bourbon Flavored Gourmet Cherries...</td>\n",
       "      <td></td>\n",
       "      <td></td>\n",
       "      <td>[Grocery &amp; Gourmet Food, Pantry Staples, Canne...</td>\n",
       "      <td>[https://m.media-amazon.com/images/I/31CDQM754...</td>\n",
       "      <td>{'Is Discontinued By Manufacturer': 'No', 'UPC...</td>\n",
       "      <td>{'Legal Disclaimer': 'Statements regarding die...</td>\n",
       "      <td>{'score': '4 out of 5', 'dist': {'5 star': '0%...</td>\n",
       "      <td>[]</td>\n",
       "    </tr>\n",
       "    <tr>\n",
       "      <th>3378</th>\n",
       "      <td>B000EDDSES</td>\n",
       "      <td>Bob's Red Mill Old Country Style Muesli, 18oz ...</td>\n",
       "      <td>Visit the Bob's Red Mill Store</td>\n",
       "      <td>Product Description   Old Country Style Muesli...</td>\n",
       "      <td>[Grocery &amp; Gourmet Food, Breakfast Cereal, Mue...</td>\n",
       "      <td>[https://m.media-amazon.com/images/I/411xsw6he...</td>\n",
       "      <td>{'Is Discontinued By Manufacturer': 'No', 'Pro...</td>\n",
       "      <td>{'Ingredients': 'Whole Grain Wheat, Dates, Sun...</td>\n",
       "      <td>{'score': '4.8 out of 5', 'dist': {'5 star': '...</td>\n",
       "      <td>[{'date': 'October 17, 2011', 'title': 'I Love...</td>\n",
       "    </tr>\n",
       "    <tr>\n",
       "      <th>3379</th>\n",
       "      <td>B00004RBDW</td>\n",
       "      <td>TERRO T380 Outdoor Reusable Fly Magnet Fly Tra...</td>\n",
       "      <td>Visit the Terro Store</td>\n",
       "      <td>Flies are an ever-present nuisance around home...</td>\n",
       "      <td>[Patio, Lawn &amp; Garden, Pest Control, Traps]</td>\n",
       "      <td>[https://m.media-amazon.com/images/I/41ecsqa4Z...</td>\n",
       "      <td>{}</td>\n",
       "      <td>{}</td>\n",
       "      <td>{'score': '4.2 out of 5', 'dist': {'5 star': '...</td>\n",
       "      <td>[{'date': 'July 22, 2025', 'title': 'It works!...</td>\n",
       "    </tr>\n",
       "    <tr>\n",
       "      <th>3380</th>\n",
       "      <td>B000F42EC8</td>\n",
       "      <td>Taylors of Harrogate Earl Grey, 50 Teabags (Pa...</td>\n",
       "      <td>Visit the Taylors of Harrogate Store</td>\n",
       "      <td>Product Description   The elegant fragrance of...</td>\n",
       "      <td>[Grocery &amp; Gourmet Food, Beverages, Tea, Black]</td>\n",
       "      <td>[https://m.media-amazon.com/images/I/41wxP0usj...</td>\n",
       "      <td>{'Is Discontinued By Manufacturer': 'No', 'Pro...</td>\n",
       "      <td>{'Safety Information': 'This product is labell...</td>\n",
       "      <td>{'score': '4.5 out of 5', 'dist': {'5 star': '...</td>\n",
       "      <td>[{'date': 'August 31, 2025', 'title': 'Smooth ...</td>\n",
       "    </tr>\n",
       "  </tbody>\n",
       "</table>\n",
       "<p>3381 rows × 10 columns</p>\n",
       "</div>"
      ]
     },
     "execution_count": 85,
     "metadata": {},
     "output_type": "execute_result"
    }
   ],
   "execution_count": 85
  },
  {
   "metadata": {},
   "cell_type": "code",
   "outputs": [],
   "execution_count": null,
   "source": "df_amazon_product_info",
   "id": "21c401a37c27f5fb"
  },
  {
   "metadata": {
    "ExecuteTime": {
     "end_time": "2025-09-17T08:20:31.459793Z",
     "start_time": "2025-09-17T08:20:31.441641Z"
    }
   },
   "cell_type": "code",
   "source": [
    "p = df_amazon_food_reviews.pivot_table(index=['ProductId'], aggfunc='count')[[\"Summary\"]]\n",
    "p[p.Summary > 1]"
   ],
   "id": "b5ceff1c9e490115",
   "outputs": [
    {
     "data": {
      "text/plain": [
       "            Summary\n",
       "ProductId          \n",
       "6641040           3\n",
       "7310172001       19\n",
       "7310172101       16\n",
       "B00002N8SM        3\n",
       "B00004CI84       23\n",
       "...             ...\n",
       "B000GZY8FC        4\n",
       "B000GZY8W0        2\n",
       "B000GZY942        2\n",
       "B000GZY9HY        2\n",
       "B000GZYAN2        9\n",
       "\n",
       "[1845 rows x 1 columns]"
      ],
      "text/html": [
       "<div>\n",
       "<style scoped>\n",
       "    .dataframe tbody tr th:only-of-type {\n",
       "        vertical-align: middle;\n",
       "    }\n",
       "\n",
       "    .dataframe tbody tr th {\n",
       "        vertical-align: top;\n",
       "    }\n",
       "\n",
       "    .dataframe thead th {\n",
       "        text-align: right;\n",
       "    }\n",
       "</style>\n",
       "<table border=\"1\" class=\"dataframe\">\n",
       "  <thead>\n",
       "    <tr style=\"text-align: right;\">\n",
       "      <th></th>\n",
       "      <th>Summary</th>\n",
       "    </tr>\n",
       "    <tr>\n",
       "      <th>ProductId</th>\n",
       "      <th></th>\n",
       "    </tr>\n",
       "  </thead>\n",
       "  <tbody>\n",
       "    <tr>\n",
       "      <th>6641040</th>\n",
       "      <td>3</td>\n",
       "    </tr>\n",
       "    <tr>\n",
       "      <th>7310172001</th>\n",
       "      <td>19</td>\n",
       "    </tr>\n",
       "    <tr>\n",
       "      <th>7310172101</th>\n",
       "      <td>16</td>\n",
       "    </tr>\n",
       "    <tr>\n",
       "      <th>B00002N8SM</th>\n",
       "      <td>3</td>\n",
       "    </tr>\n",
       "    <tr>\n",
       "      <th>B00004CI84</th>\n",
       "      <td>23</td>\n",
       "    </tr>\n",
       "    <tr>\n",
       "      <th>...</th>\n",
       "      <td>...</td>\n",
       "    </tr>\n",
       "    <tr>\n",
       "      <th>B000GZY8FC</th>\n",
       "      <td>4</td>\n",
       "    </tr>\n",
       "    <tr>\n",
       "      <th>B000GZY8W0</th>\n",
       "      <td>2</td>\n",
       "    </tr>\n",
       "    <tr>\n",
       "      <th>B000GZY942</th>\n",
       "      <td>2</td>\n",
       "    </tr>\n",
       "    <tr>\n",
       "      <th>B000GZY9HY</th>\n",
       "      <td>2</td>\n",
       "    </tr>\n",
       "    <tr>\n",
       "      <th>B000GZYAN2</th>\n",
       "      <td>9</td>\n",
       "    </tr>\n",
       "  </tbody>\n",
       "</table>\n",
       "<p>1845 rows × 1 columns</p>\n",
       "</div>"
      ]
     },
     "execution_count": 86,
     "metadata": {},
     "output_type": "execute_result"
    }
   ],
   "execution_count": 86
  },
  {
   "metadata": {
    "ExecuteTime": {
     "end_time": "2025-09-16T03:32:07.731299Z",
     "start_time": "2025-09-16T03:32:07.728940Z"
    }
   },
   "cell_type": "code",
   "source": [
    "import time\n",
    "from datetime import datetime"
   ],
   "id": "221df243361f2147",
   "outputs": [],
   "execution_count": 11
  },
  {
   "metadata": {
    "ExecuteTime": {
     "end_time": "2025-09-16T06:48:01.579649Z",
     "start_time": "2025-09-16T06:48:01.577183Z"
    }
   },
   "cell_type": "code",
   "source": [
    "from glob import glob\n",
    "from tqdm import tqdm\n",
    "import json\n",
    "import numpy as np"
   ],
   "id": "fe4767548277996e",
   "outputs": [],
   "execution_count": 27
  },
  {
   "metadata": {
    "ExecuteTime": {
     "end_time": "2025-09-16T06:48:03.119500Z",
     "start_time": "2025-09-16T06:48:03.117710Z"
    }
   },
   "cell_type": "code",
   "source": [
    "\n",
    "\n"
   ],
   "id": "2a2b4d98d2d062b5",
   "outputs": [],
   "execution_count": 27
  },
  {
   "metadata": {
    "ExecuteTime": {
     "end_time": "2025-09-16T03:49:52.440670Z",
     "start_time": "2025-09-16T03:49:52.432871Z"
    }
   },
   "cell_type": "code",
   "source": "",
   "id": "ca248ed6ba740501",
   "outputs": [],
   "execution_count": 43
  },
  {
   "metadata": {
    "ExecuteTime": {
     "end_time": "2025-09-16T06:48:05.692350Z",
     "start_time": "2025-09-16T06:48:05.685799Z"
    }
   },
   "cell_type": "code",
   "source": [
    "df_amazon_product_info['CountAltImages'] = df_amazon_product_info.alt_images.apply(lambda x: len(x))\n",
    "df_amazon_product_info['Score'] = df_amazon_product_info.rating.apply(lambda x: float(x['score'].split(' ')[0]) if x is not None else np.nan)"
   ],
   "id": "ecae2349675b5d7f",
   "outputs": [],
   "execution_count": 28
  },
  {
   "metadata": {
    "ExecuteTime": {
     "end_time": "2025-09-16T06:48:08.006755Z",
     "start_time": "2025-09-16T06:48:07.949472Z"
    }
   },
   "cell_type": "code",
   "source": "df_amazon_product_info.plot.scatter(x='CountAltImages', y='Score')",
   "id": "8782373075afa6a8",
   "outputs": [
    {
     "data": {
      "text/plain": [
       "<Axes: xlabel='CountAltImages', ylabel='Score'>"
      ]
     },
     "execution_count": 29,
     "metadata": {},
     "output_type": "execute_result"
    },
    {
     "data": {
      "text/plain": [
       "<Figure size 640x480 with 1 Axes>"
      ],
      "image/png": "[encoded data removed]"
     },
     "metadata": {},
     "output_type": "display_data"
    }
   ],
   "execution_count": 29
  },
  {
   "metadata": {
    "ExecuteTime": {
     "end_time": "2025-09-16T07:12:32.036797Z",
     "start_time": "2025-09-16T07:12:31.971133Z"
    }
   },
   "cell_type": "code",
   "source": [
    "data = []\n",
    "for n in range(8):\n",
    "    tmp = df_amazon_product_info[df_amazon_product_info.CountAltImages==n]#.Score.hist(bins=50)\n",
    "    data.append({'n_images':n, 'good_score_percent':len(tmp[tmp.Score > 4.4]) / len(tmp) * 100, 'n_samples':len(tmp)})\n",
    "\n",
    "df = pd.DataFrame(data)\n",
    "ax = df.plot(x='n_images', y='n_samples', kind=\"bar\", color=\"skyblue\", width=0.6, figsize=(8,5))\n",
    "df.plot(x='n_images', y=['good_score_percent'], ax=ax.twinx())"
   ],
   "id": "159e2adb36b3c891",
   "outputs": [
    {
     "data": {
      "text/plain": [
       "<Axes: xlabel='n_images'>"
      ]
     },
     "execution_count": 79,
     "metadata": {},
     "output_type": "execute_result"
    },
    {
     "data": {
      "text/plain": [
       "<Figure size 800x500 with 2 Axes>"
      ],
      "image/png": "[encoded data removed]"
     },
     "metadata": {},
     "output_type": "display_data"
    }
   ],
   "execution_count": 79
  },
  {
   "metadata": {
    "ExecuteTime": {
     "end_time": "2025-09-16T07:14:02.610226Z",
     "start_time": "2025-09-16T07:14:02.540407Z"
    }
   },
   "cell_type": "code",
   "source": [
    "data = []\n",
    "for n in range(8):\n",
    "    tmp = df_amazon_product_info[df_amazon_product_info.CountAltImages==n]#.Score.hist(bins=50)\n",
    "    data.append({'n_images':n, 'good_score_percent':len(tmp[tmp.Score <= 3]) / len(tmp) * 100, 'n_samples':len(tmp)})\n",
    "\n",
    "df = pd.DataFrame(data)\n",
    "ax = df.plot(x='n_images', y='n_samples', kind=\"bar\", color=\"skyblue\", width=0.6, figsize=(8,5))\n",
    "df.plot(x='n_images', y=['good_score_percent'], ax=ax.twinx())"
   ],
   "id": "871c06e2eb65b755",
   "outputs": [
    {
     "data": {
      "text/plain": [
       "<Axes: xlabel='n_images'>"
      ]
     },
     "execution_count": 84,
     "metadata": {},
     "output_type": "execute_result"
    },
    {
     "data": {
      "text/plain": [
       "<Figure size 800x500 with 2 Axes>"
      ],
      "image/png": "[encoded data removed]"
     },
     "metadata": {},
     "output_type": "display_data"
    }
   ],
   "execution_count": 84
  },
  {
   "metadata": {
    "ExecuteTime": {
     "end_time": "2025-09-16T07:12:20.573770Z",
     "start_time": "2025-09-16T07:12:20.571648Z"
    }
   },
   "cell_type": "code",
   "source": "",
   "id": "293c051debc63647",
   "outputs": [],
   "execution_count": null
  },
  {
   "metadata": {},
   "cell_type": "code",
   "outputs": [],
   "execution_count": null,
   "source": "",
   "id": "3f18daabf58e80f4"
  }
 ],
 "metadata": {
  "kernelspec": {
   "display_name": "Python 3",
   "language": "python",
   "name": "python3"
  },
  "language_info": {
   "codemirror_mode": {
    "name": "ipython",
    "version": 2
   },
   "file_extension": ".py",
   "mimetype": "text/x-python",
   "name": "python",
   "nbconvert_exporter": "python",
   "pygments_lexer": "ipython2",
   "version": "2.7.6"
  }
 },
 "nbformat": 4,
 "nbformat_minor": 5
}
