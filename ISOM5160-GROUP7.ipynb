{
 "cells": [
  {
   "metadata": {},
   "cell_type": "markdown",
   "source": [
    "# ISOM5160 Project - Group7\n",
    "\n",
    "- **Dataset:** amazon_food_reviews.csv\n",
    "- **Topic:** AI Driven Personalized Product Improvement Recommendation System for Amazon Sellers\n",
    "- **Individual Contribution:**\n",
    "\n",
    "    | Name          | SID      | Contributions                                                                                                          |\n",
    "    |---------------|----------|------------------------------------------------------------------------------------------------------------------------|\n",
    "    | CAO, Xi       | 21271664 | 评论文本预处理 + 情感分析 + 评论关键词提取 +数据清洗                                                                                                 |\n",
    "    | LI, Heyi      |          | 评论、评分异常值分析 （基于评论情感分析）、 PPT 统筹                                                                                          |\n",
    "    | LIAO, Jingyu  | 21262106 | 差评原因分析   （基于评论关键词）                                                                                                     |\n",
    "    | LIN, Chuwei   |          | 评分时间趋势分析                                                                                                               |\n",
    "    | YE, Chenwei   | 21199517 | 用户评论权重分析                                                                                                               |\n",
    "    | ZHANG, Ziyang | 21266920 | 1. Data scraping: additional amazon product info <br/>2. Analyse: Correlation Between Ratings and Product Descriptions |\n",
    "\n",
    "\n",
    "\n",
    "## 0. Install requirements and do initialization\n",
    "1. Install requirements and load 'amazon_food_reviews.csv'\n",
    "2. Scrape product info from *amazon.com*\n",
    "3. Load product info and concat to original dataset"
   ],
   "id": "f50730202ea9bc00"
  },
  {
   "metadata": {
    "collapsed": true,
    "ExecuteTime": {
     "end_time": "2025-09-17T10:19:41.162414Z",
     "start_time": "2025-09-17T10:19:39.284345Z"
    }
   },
   "cell_type": "code",
   "source": [
    "# Run first to install requirements\n",
    "!pip install -r requirements.txt\n",
    "\n",
    "# Run this to speed up the data scraping process\n",
    "!unzip -oq new_data.zip"
   ],
   "id": "initial_id",
   "outputs": [],
   "execution_count": 91
  },
  {
   "metadata": {
    "ExecuteTime": {
     "end_time": "2025-09-18T09:11:40.684259Z",
     "start_time": "2025-09-18T09:11:39.879318Z"
    }
   },
   "cell_type": "code",
   "source": [
    "import pandas as pd\n",
    "import numpy as np\n",
    "from scipy.stats import spearmanr\n",
    "\n",
    "from amazon_new_data_scraping import parallel_scrape_amazon_product_info, load_all_data_as_dataframe, \\\n",
    "    extract_comments_from_product_info\n",
    "\n",
    "df_amazon_food_reviews = pd.read_csv('amazon_food_reviews.csv',\n",
    "                                     converters={\"Time\": lambda x: pd.to_datetime(int(x), unit=\"s\")})"
   ],
   "id": "96ff14f8727ce43f",
   "outputs": [],
   "execution_count": 1
  },
  {
   "metadata": {
    "ExecuteTime": {
     "end_time": "2025-09-18T09:11:42.809798Z",
     "start_time": "2025-09-18T09:11:41.138960Z"
    }
   },
   "cell_type": "code",
   "source": [
    "product_id_list = list(df_amazon_food_reviews.ProductId.unique())\n",
    "print(f\"Total number of products: {len(product_id_list)}\")\n",
    "print(\"Start scraping data...\")\n",
    "parallel_scrape_amazon_product_info(product_id_list, replace=False)\n",
    "print(\"Scraping finished.\")\n",
    "df_amazon_product_info = load_all_data_as_dataframe()\n",
    "print(\"Product info loaded.\")\n",
    "df_amazon_product_info"
   ],
   "id": "9f3c3bdd7fe6b7c9",
   "outputs": [
    {
     "name": "stdout",
     "output_type": "stream",
     "text": [
      "Total number of products: 4322\n",
      "Start scraping data...\n",
      "Using 12 CPU cores for parallel scraping\n"
     ]
    },
    {
     "name": "stderr",
     "output_type": "stream",
     "text": [
      "Scraping amazon products: 100%|██████████| 4322/4322 [00:00<00:00, 4615.33it/s]\n"
     ]
    },
    {
     "name": "stdout",
     "output_type": "stream",
     "text": [
      "Successfully scraped 4322/4322 products\n",
      "Scraping finished.\n"
     ]
    },
    {
     "name": "stderr",
     "output_type": "stream",
     "text": [
      "Loading product info: 100%|██████████| 4322/4322 [00:00<00:00, 9759.89it/s]\n"
     ]
    },
    {
     "name": "stdout",
     "output_type": "stream",
     "text": [
      "Product info loaded.\n"
     ]
    },
    {
     "data": {
      "text/plain": [
       "      product_id                                      product_title  \\\n",
       "0     B0007GFDP4                  Korean Seaweed 0.17oz5gea-4 Packs   \n",
       "1     B000EMEEHE  GIN GINS Original Ginger Chews by The Ginger P...   \n",
       "2     B000E671W0  Celestial Seasonings Peppermint Herbal Tea, Ca...   \n",
       "3     B000084E76       Kookamunga Krazee Kitty Catnip Bubbles, 5 oz   \n",
       "4     B0009TQC90  Golden Dragon - Finest Chrysanthemum Pu Erh Te...   \n",
       "...          ...                                                ...   \n",
       "3376  B0006VB3WC   Katz-n-Flocken All Life Stages Cat Food - 15 lbs   \n",
       "3377  B0001PB99K  Maker's Mark Bourbon Flavored Gourmet Cherries...   \n",
       "3378  B000EDDSES  Bob's Red Mill Old Country Style Muesli, 18oz ...   \n",
       "3379  B00004RBDW  TERRO T380 Outdoor Reusable Fly Magnet Fly Tra...   \n",
       "3380  B000F42EC8  Taylors of Harrogate Earl Grey, 50 Teabags (Pa...   \n",
       "\n",
       "                               byline_info  \\\n",
       "0                                Brand: JN   \n",
       "1        Visit the The Ginger People Store   \n",
       "2     Visit the Celestial Seasonings Store   \n",
       "3               Visit the KOOKAMUNGA Store   \n",
       "4                     Brand: Golden Dragon   \n",
       "...                                    ...   \n",
       "3376            Visit the Solid Gold Store   \n",
       "3377                                         \n",
       "3378        Visit the Bob's Red Mill Store   \n",
       "3379                 Visit the Terro Store   \n",
       "3380  Visit the Taylors of Harrogate Store   \n",
       "\n",
       "                                    product_description  \\\n",
       "0     Freshness Guaranteed Premium Seaweed Winter Ha...   \n",
       "1     Deliciously spicy-sweet chewy ginger candies m...   \n",
       "2     Nothing is more soothing than a cup of your fa...   \n",
       "3     Make your cats go wild with this fun product. ...   \n",
       "4     a specially selected of buds and young leaves ...   \n",
       "...                                                 ...   \n",
       "3376  Ideal for adult cats and kittens, to maintain ...   \n",
       "3377                                                      \n",
       "3378  Product Description   Old Country Style Muesli...   \n",
       "3379  Flies are an ever-present nuisance around home...   \n",
       "3380  Product Description   The elegant fragrance of...   \n",
       "\n",
       "                                               category  \\\n",
       "0     [Grocery & Gourmet Food, Pantry Staples, Cooki...   \n",
       "1     [Grocery & Gourmet Food, Snacks & Sweets, Cand...   \n",
       "2     [Grocery & Gourmet Food, Beverages, Tea, Fruit...   \n",
       "3               [Pet Supplies, Cats, Toys, Catnip Toys]   \n",
       "4       [Grocery & Gourmet Food, Beverages, Tea, Black]   \n",
       "...                                                 ...   \n",
       "3376                         [Pet Supplies, Cats, Food]   \n",
       "3377  [Grocery & Gourmet Food, Pantry Staples, Canne...   \n",
       "3378  [Grocery & Gourmet Food, Breakfast Cereal, Mue...   \n",
       "3379        [Patio, Lawn & Garden, Pest Control, Traps]   \n",
       "3380    [Grocery & Gourmet Food, Beverages, Tea, Black]   \n",
       "\n",
       "                                             alt_images  \\\n",
       "0     [https://m.media-amazon.com/images/I/51uDkERYg...   \n",
       "1     [https://m.media-amazon.com/images/I/41KQy5H4V...   \n",
       "2     [https://m.media-amazon.com/images/I/61iWD7RnS...   \n",
       "3     [https://m.media-amazon.com/images/I/4124SxrG1...   \n",
       "4     [https://m.media-amazon.com/images/I/51hGQNcQz...   \n",
       "...                                                 ...   \n",
       "3376  [https://m.media-amazon.com/images/I/517dkgAGm...   \n",
       "3377  [https://m.media-amazon.com/images/I/31CDQM754...   \n",
       "3378  [https://m.media-amazon.com/images/I/411xsw6he...   \n",
       "3379  [https://m.media-amazon.com/images/I/41ecsqa4Z...   \n",
       "3380  [https://m.media-amazon.com/images/I/41wxP0usj...   \n",
       "\n",
       "                                         product_detail  \\\n",
       "0     {'Product Dimensions': '6.1 x 3.35 x 2.3 inche...   \n",
       "1     {'Is Discontinued By Manufacturer': 'No', 'Pro...   \n",
       "2     {'Is Discontinued By Manufacturer': 'No', 'Pro...   \n",
       "3     {'Is Discontinued By Manufacturer': 'No', 'Pro...   \n",
       "4     {'Is Discontinued By Manufacturer': 'No', 'Pac...   \n",
       "...                                                 ...   \n",
       "3376  {'Is Discontinued By Manufacturer': 'No', 'Pro...   \n",
       "3377  {'Is Discontinued By Manufacturer': 'No', 'UPC...   \n",
       "3378  {'Is Discontinued By Manufacturer': 'No', 'Pro...   \n",
       "3379                                                 {}   \n",
       "3380  {'Is Discontinued By Manufacturer': 'No', 'Pro...   \n",
       "\n",
       "                                  important_information  \\\n",
       "0     {'Ingredients': 'Seaweed. non gmo com oil. non...   \n",
       "1     {'Safety Information': 'Made in a facility tha...   \n",
       "2     {'Safety Information': 'This product is labell...   \n",
       "3                                                    {}   \n",
       "4     {'Legal Disclaimer': 'Statements regarding die...   \n",
       "...                                                 ...   \n",
       "3376                                                 {}   \n",
       "3377  {'Legal Disclaimer': 'Statements regarding die...   \n",
       "3378  {'Ingredients': 'Whole Grain Wheat, Dates, Sun...   \n",
       "3379                                                 {}   \n",
       "3380  {'Safety Information': 'This product is labell...   \n",
       "\n",
       "                                           top_comments  CountAltImages  \\\n",
       "0     [{'date': 'March 22, 2013', 'title': 'Best Tas...               4   \n",
       "1     [{'date': 'July 9, 2014', 'title': 'Truly Life...               7   \n",
       "2     [{'date': 'August 3, 2025', 'title': 'DELICIOU...               6   \n",
       "3     [{'date': 'July 17, 2015', 'title': 'My cat is...               3   \n",
       "4     [{'date': 'January 7, 2012', 'title': 'Not exa...               7   \n",
       "...                                                 ...             ...   \n",
       "3376  [{'date': 'November 25, 2011', 'title': 'Katz-...               5   \n",
       "3377                                                 []               1   \n",
       "3378  [{'date': 'October 17, 2011', 'title': 'I Love...               7   \n",
       "3379  [{'date': 'July 22, 2025', 'title': 'It works!...               7   \n",
       "3380  [{'date': 'August 31, 2025', 'title': 'Smooth ...               5   \n",
       "\n",
       "      Score               ScoreDistribution  ScorePolarizationIndex  \\\n",
       "0       3.8    [20.0, 0.0, 19.0, 0.0, 61.0]                0.483701   \n",
       "1       3.2    [23.0, 9.0, 27.0, 9.0, 32.0]                0.281807   \n",
       "2       4.8      [2.0, 1.0, 2.0, 7.0, 88.0]                0.166892   \n",
       "3       3.2  [26.0, 12.0, 12.0, 13.0, 37.0]                0.319141   \n",
       "4       3.2  [10.0, 20.0, 32.0, 10.0, 28.0]                0.224108   \n",
       "...     ...                             ...                     ...   \n",
       "3376    4.4     [9.0, 0.0, 14.0, 0.0, 77.0]                0.382746   \n",
       "3377    4.0     [0.0, 0.0, 0.0, 100.0, 0.0]                0.000000   \n",
       "3378    4.8      [1.0, 1.0, 3.0, 8.0, 87.0]                0.156042   \n",
       "3379    4.2     [9.0, 4.0, 9.0, 13.0, 65.0]                0.323871   \n",
       "3380    4.5     [4.0, 2.0, 7.0, 13.0, 74.0]                0.260269   \n",
       "\n",
       "      NumRatings  IsFood  \n",
       "0              6    True  \n",
       "1             62    True  \n",
       "2          37825    True  \n",
       "3            728   False  \n",
       "4             21    True  \n",
       "...          ...     ...  \n",
       "3376          23    True  \n",
       "3377           1    True  \n",
       "3378        5058    True  \n",
       "3379          -1   False  \n",
       "3380       38885    True  \n",
       "\n",
       "[3381 rows x 15 columns]"
      ],
      "text/html": [
       "<div>\n",
       "<style scoped>\n",
       "    .dataframe tbody tr th:only-of-type {\n",
       "        vertical-align: middle;\n",
       "    }\n",
       "\n",
       "    .dataframe tbody tr th {\n",
       "        vertical-align: top;\n",
       "    }\n",
       "\n",
       "    .dataframe thead th {\n",
       "        text-align: right;\n",
       "    }\n",
       "</style>\n",
       "<table border=\"1\" class=\"dataframe\">\n",
       "  <thead>\n",
       "    <tr style=\"text-align: right;\">\n",
       "      <th></th>\n",
       "      <th>product_id</th>\n",
       "      <th>product_title</th>\n",
       "      <th>byline_info</th>\n",
       "      <th>product_description</th>\n",
       "      <th>category</th>\n",
       "      <th>alt_images</th>\n",
       "      <th>product_detail</th>\n",
       "      <th>important_information</th>\n",
       "      <th>top_comments</th>\n",
       "      <th>CountAltImages</th>\n",
       "      <th>Score</th>\n",
       "      <th>ScoreDistribution</th>\n",
       "      <th>ScorePolarizationIndex</th>\n",
       "      <th>NumRatings</th>\n",
       "      <th>IsFood</th>\n",
       "    </tr>\n",
       "  </thead>\n",
       "  <tbody>\n",
       "    <tr>\n",
       "      <th>0</th>\n",
       "      <td>B0007GFDP4</td>\n",
       "      <td>Korean Seaweed 0.17oz5gea-4 Packs</td>\n",
       "      <td>Brand: JN</td>\n",
       "      <td>Freshness Guaranteed Premium Seaweed Winter Ha...</td>\n",
       "      <td>[Grocery &amp; Gourmet Food, Pantry Staples, Cooki...</td>\n",
       "      <td>[https://m.media-amazon.com/images/I/51uDkERYg...</td>\n",
       "      <td>{'Product Dimensions': '6.1 x 3.35 x 2.3 inche...</td>\n",
       "      <td>{'Ingredients': 'Seaweed. non gmo com oil. non...</td>\n",
       "      <td>[{'date': 'March 22, 2013', 'title': 'Best Tas...</td>\n",
       "      <td>4</td>\n",
       "      <td>3.8</td>\n",
       "      <td>[20.0, 0.0, 19.0, 0.0, 61.0]</td>\n",
       "      <td>0.483701</td>\n",
       "      <td>6</td>\n",
       "      <td>True</td>\n",
       "    </tr>\n",
       "    <tr>\n",
       "      <th>1</th>\n",
       "      <td>B000EMEEHE</td>\n",
       "      <td>GIN GINS Original Ginger Chews by The Ginger P...</td>\n",
       "      <td>Visit the The Ginger People Store</td>\n",
       "      <td>Deliciously spicy-sweet chewy ginger candies m...</td>\n",
       "      <td>[Grocery &amp; Gourmet Food, Snacks &amp; Sweets, Cand...</td>\n",
       "      <td>[https://m.media-amazon.com/images/I/41KQy5H4V...</td>\n",
       "      <td>{'Is Discontinued By Manufacturer': 'No', 'Pro...</td>\n",
       "      <td>{'Safety Information': 'Made in a facility tha...</td>\n",
       "      <td>[{'date': 'July 9, 2014', 'title': 'Truly Life...</td>\n",
       "      <td>7</td>\n",
       "      <td>3.2</td>\n",
       "      <td>[23.0, 9.0, 27.0, 9.0, 32.0]</td>\n",
       "      <td>0.281807</td>\n",
       "      <td>62</td>\n",
       "      <td>True</td>\n",
       "    </tr>\n",
       "    <tr>\n",
       "      <th>2</th>\n",
       "      <td>B000E671W0</td>\n",
       "      <td>Celestial Seasonings Peppermint Herbal Tea, Ca...</td>\n",
       "      <td>Visit the Celestial Seasonings Store</td>\n",
       "      <td>Nothing is more soothing than a cup of your fa...</td>\n",
       "      <td>[Grocery &amp; Gourmet Food, Beverages, Tea, Fruit...</td>\n",
       "      <td>[https://m.media-amazon.com/images/I/61iWD7RnS...</td>\n",
       "      <td>{'Is Discontinued By Manufacturer': 'No', 'Pro...</td>\n",
       "      <td>{'Safety Information': 'This product is labell...</td>\n",
       "      <td>[{'date': 'August 3, 2025', 'title': 'DELICIOU...</td>\n",
       "      <td>6</td>\n",
       "      <td>4.8</td>\n",
       "      <td>[2.0, 1.0, 2.0, 7.0, 88.0]</td>\n",
       "      <td>0.166892</td>\n",
       "      <td>37825</td>\n",
       "      <td>True</td>\n",
       "    </tr>\n",
       "    <tr>\n",
       "      <th>3</th>\n",
       "      <td>B000084E76</td>\n",
       "      <td>Kookamunga Krazee Kitty Catnip Bubbles, 5 oz</td>\n",
       "      <td>Visit the KOOKAMUNGA Store</td>\n",
       "      <td>Make your cats go wild with this fun product. ...</td>\n",
       "      <td>[Pet Supplies, Cats, Toys, Catnip Toys]</td>\n",
       "      <td>[https://m.media-amazon.com/images/I/4124SxrG1...</td>\n",
       "      <td>{'Is Discontinued By Manufacturer': 'No', 'Pro...</td>\n",
       "      <td>{}</td>\n",
       "      <td>[{'date': 'July 17, 2015', 'title': 'My cat is...</td>\n",
       "      <td>3</td>\n",
       "      <td>3.2</td>\n",
       "      <td>[26.0, 12.0, 12.0, 13.0, 37.0]</td>\n",
       "      <td>0.319141</td>\n",
       "      <td>728</td>\n",
       "      <td>False</td>\n",
       "    </tr>\n",
       "    <tr>\n",
       "      <th>4</th>\n",
       "      <td>B0009TQC90</td>\n",
       "      <td>Golden Dragon - Finest Chrysanthemum Pu Erh Te...</td>\n",
       "      <td>Brand: Golden Dragon</td>\n",
       "      <td>a specially selected of buds and young leaves ...</td>\n",
       "      <td>[Grocery &amp; Gourmet Food, Beverages, Tea, Black]</td>\n",
       "      <td>[https://m.media-amazon.com/images/I/51hGQNcQz...</td>\n",
       "      <td>{'Is Discontinued By Manufacturer': 'No', 'Pac...</td>\n",
       "      <td>{'Legal Disclaimer': 'Statements regarding die...</td>\n",
       "      <td>[{'date': 'January 7, 2012', 'title': 'Not exa...</td>\n",
       "      <td>7</td>\n",
       "      <td>3.2</td>\n",
       "      <td>[10.0, 20.0, 32.0, 10.0, 28.0]</td>\n",
       "      <td>0.224108</td>\n",
       "      <td>21</td>\n",
       "      <td>True</td>\n",
       "    </tr>\n",
       "    <tr>\n",
       "      <th>...</th>\n",
       "      <td>...</td>\n",
       "      <td>...</td>\n",
       "      <td>...</td>\n",
       "      <td>...</td>\n",
       "      <td>...</td>\n",
       "      <td>...</td>\n",
       "      <td>...</td>\n",
       "      <td>...</td>\n",
       "      <td>...</td>\n",
       "      <td>...</td>\n",
       "      <td>...</td>\n",
       "      <td>...</td>\n",
       "      <td>...</td>\n",
       "      <td>...</td>\n",
       "      <td>...</td>\n",
       "    </tr>\n",
       "    <tr>\n",
       "      <th>3376</th>\n",
       "      <td>B0006VB3WC</td>\n",
       "      <td>Katz-n-Flocken All Life Stages Cat Food - 15 lbs</td>\n",
       "      <td>Visit the Solid Gold Store</td>\n",
       "      <td>Ideal for adult cats and kittens, to maintain ...</td>\n",
       "      <td>[Pet Supplies, Cats, Food]</td>\n",
       "      <td>[https://m.media-amazon.com/images/I/517dkgAGm...</td>\n",
       "      <td>{'Is Discontinued By Manufacturer': 'No', 'Pro...</td>\n",
       "      <td>{}</td>\n",
       "      <td>[{'date': 'November 25, 2011', 'title': 'Katz-...</td>\n",
       "      <td>5</td>\n",
       "      <td>4.4</td>\n",
       "      <td>[9.0, 0.0, 14.0, 0.0, 77.0]</td>\n",
       "      <td>0.382746</td>\n",
       "      <td>23</td>\n",
       "      <td>True</td>\n",
       "    </tr>\n",
       "    <tr>\n",
       "      <th>3377</th>\n",
       "      <td>B0001PB99K</td>\n",
       "      <td>Maker's Mark Bourbon Flavored Gourmet Cherries...</td>\n",
       "      <td></td>\n",
       "      <td></td>\n",
       "      <td>[Grocery &amp; Gourmet Food, Pantry Staples, Canne...</td>\n",
       "      <td>[https://m.media-amazon.com/images/I/31CDQM754...</td>\n",
       "      <td>{'Is Discontinued By Manufacturer': 'No', 'UPC...</td>\n",
       "      <td>{'Legal Disclaimer': 'Statements regarding die...</td>\n",
       "      <td>[]</td>\n",
       "      <td>1</td>\n",
       "      <td>4.0</td>\n",
       "      <td>[0.0, 0.0, 0.0, 100.0, 0.0]</td>\n",
       "      <td>0.000000</td>\n",
       "      <td>1</td>\n",
       "      <td>True</td>\n",
       "    </tr>\n",
       "    <tr>\n",
       "      <th>3378</th>\n",
       "      <td>B000EDDSES</td>\n",
       "      <td>Bob's Red Mill Old Country Style Muesli, 18oz ...</td>\n",
       "      <td>Visit the Bob's Red Mill Store</td>\n",
       "      <td>Product Description   Old Country Style Muesli...</td>\n",
       "      <td>[Grocery &amp; Gourmet Food, Breakfast Cereal, Mue...</td>\n",
       "      <td>[https://m.media-amazon.com/images/I/411xsw6he...</td>\n",
       "      <td>{'Is Discontinued By Manufacturer': 'No', 'Pro...</td>\n",
       "      <td>{'Ingredients': 'Whole Grain Wheat, Dates, Sun...</td>\n",
       "      <td>[{'date': 'October 17, 2011', 'title': 'I Love...</td>\n",
       "      <td>7</td>\n",
       "      <td>4.8</td>\n",
       "      <td>[1.0, 1.0, 3.0, 8.0, 87.0]</td>\n",
       "      <td>0.156042</td>\n",
       "      <td>5058</td>\n",
       "      <td>True</td>\n",
       "    </tr>\n",
       "    <tr>\n",
       "      <th>3379</th>\n",
       "      <td>B00004RBDW</td>\n",
       "      <td>TERRO T380 Outdoor Reusable Fly Magnet Fly Tra...</td>\n",
       "      <td>Visit the Terro Store</td>\n",
       "      <td>Flies are an ever-present nuisance around home...</td>\n",
       "      <td>[Patio, Lawn &amp; Garden, Pest Control, Traps]</td>\n",
       "      <td>[https://m.media-amazon.com/images/I/41ecsqa4Z...</td>\n",
       "      <td>{}</td>\n",
       "      <td>{}</td>\n",
       "      <td>[{'date': 'July 22, 2025', 'title': 'It works!...</td>\n",
       "      <td>7</td>\n",
       "      <td>4.2</td>\n",
       "      <td>[9.0, 4.0, 9.0, 13.0, 65.0]</td>\n",
       "      <td>0.323871</td>\n",
       "      <td>-1</td>\n",
       "      <td>False</td>\n",
       "    </tr>\n",
       "    <tr>\n",
       "      <th>3380</th>\n",
       "      <td>B000F42EC8</td>\n",
       "      <td>Taylors of Harrogate Earl Grey, 50 Teabags (Pa...</td>\n",
       "      <td>Visit the Taylors of Harrogate Store</td>\n",
       "      <td>Product Description   The elegant fragrance of...</td>\n",
       "      <td>[Grocery &amp; Gourmet Food, Beverages, Tea, Black]</td>\n",
       "      <td>[https://m.media-amazon.com/images/I/41wxP0usj...</td>\n",
       "      <td>{'Is Discontinued By Manufacturer': 'No', 'Pro...</td>\n",
       "      <td>{'Safety Information': 'This product is labell...</td>\n",
       "      <td>[{'date': 'August 31, 2025', 'title': 'Smooth ...</td>\n",
       "      <td>5</td>\n",
       "      <td>4.5</td>\n",
       "      <td>[4.0, 2.0, 7.0, 13.0, 74.0]</td>\n",
       "      <td>0.260269</td>\n",
       "      <td>38885</td>\n",
       "      <td>True</td>\n",
       "    </tr>\n",
       "  </tbody>\n",
       "</table>\n",
       "<p>3381 rows × 15 columns</p>\n",
       "</div>"
      ]
     },
     "execution_count": 2,
     "metadata": {},
     "output_type": "execute_result"
    }
   ],
   "execution_count": 2
  },
  {
   "metadata": {
    "ExecuteTime": {
     "end_time": "2025-09-18T09:11:49.080378Z",
     "start_time": "2025-09-18T09:11:48.963973Z"
    }
   },
   "cell_type": "code",
   "source": [
    "# Concat new reviews to the original dataset and drop duplicates\n",
    "df_amazon_food_reviews = pd.concat([df_amazon_food_reviews, extract_comments_from_product_info(df_amazon_product_info)]\n",
    "                                   ).drop_duplicates(['Score', 'Time', 'Summary']).reset_index(drop=True)\n",
    "df_amazon_food_reviews"
   ],
   "id": "12bcda9c780a20e7",
   "outputs": [
    {
     "data": {
      "text/plain": [
       "          Id   ProductId          UserId  \\\n",
       "0      350.0  B00067AD4U  A2LYOWC3FC73XK   \n",
       "1      439.0  B000G6RYNE   A926YP1BSD72Y   \n",
       "2      446.0  B000G6RYNE  A19G8B2QYETD7W   \n",
       "3      448.0  B000G6RYNE   ACFPHOYVB71V4   \n",
       "4      452.0  B000G6RYNE  A2MUGFV2TDQ47K   \n",
       "...      ...         ...             ...   \n",
       "29960    NaN  B00004RBDW             NaN   \n",
       "29961    NaN  B00004RBDW             NaN   \n",
       "29962    NaN  B00004RBDW             NaN   \n",
       "29963    NaN  B00004RBDW             NaN   \n",
       "29964    NaN  B00004RBDW             NaN   \n",
       "\n",
       "                                 ProfileName  HelpfulnessNumerator  \\\n",
       "0      Michael Ekstrum \"\"expresso bean fan\"\"                     1   \n",
       "1                                  Shopper11                     0   \n",
       "2                                   NyahNyah                     0   \n",
       "3                                      karob                     0   \n",
       "4                      Lynrie \"\"Oh HELL no\"\"                     0   \n",
       "...                                      ...                   ...   \n",
       "29960                                    NaN                     1   \n",
       "29961                                    NaN                     6   \n",
       "29962                                    NaN                     0   \n",
       "29963                                    NaN                     2   \n",
       "29964                                    NaN                     1   \n",
       "\n",
       "       HelpfulnessDenominator  Score       Time  \\\n",
       "0                         1.0      5 2007-05-12   \n",
       "1                         0.0      5 2011-11-20   \n",
       "2                         0.0      3 2011-02-13   \n",
       "3                         0.0      5 2010-12-18   \n",
       "4                         0.0      3 2010-11-05   \n",
       "...                       ...    ...        ...   \n",
       "29960                     NaN      4 2025-09-01   \n",
       "29961                     NaN      5 2025-08-05   \n",
       "29962                     NaN      5 2025-09-08   \n",
       "29963                     NaN      3 2025-07-24   \n",
       "29964                     NaN      4 2025-08-11   \n",
       "\n",
       "                                                 Summary  \\\n",
       "0                    excellent - exactly what I expected   \n",
       "1                      Best gluten-free dairy-free chips   \n",
       "2                                   Heavy on the Vinegar   \n",
       "3                                  BEST BUY in BBQ Chips   \n",
       "4                                      An Acquired Taste   \n",
       "...                                                  ...   \n",
       "29960                                 Awesome fly killer   \n",
       "29961  Put this item 40 feet away from any window or ...   \n",
       "29962                           Works great; odor is bad   \n",
       "29963                  Bait refills not sold separately.   \n",
       "29964                                  Great fly trap 👍🏼   \n",
       "\n",
       "                                                    Text  \n",
       "0      The product was exactly as advertised and fres...  \n",
       "1      These are my favorite gluten-free dairy-free f...  \n",
       "2      I usually love Kettle Chips, and love salt & v...  \n",
       "3      Tried many varieties of BBQ chips and hands do...  \n",
       "4      OK,I did read the reviews which ranged from sp...  \n",
       "...                                                  ...  \n",
       "29960  This thing works like a charm, it really does ...  \n",
       "29961  Very effective help me wipe out 100% of flys i...  \n",
       "29962  Hung it up, within a day it had collected so m...  \n",
       "29963  The trap works extremely well, and I'm happy w...  \n",
       "29964  The media could not be loaded.\\n              ...  \n",
       "\n",
       "[29965 rows x 10 columns]"
      ],
      "text/html": [
       "<div>\n",
       "<style scoped>\n",
       "    .dataframe tbody tr th:only-of-type {\n",
       "        vertical-align: middle;\n",
       "    }\n",
       "\n",
       "    .dataframe tbody tr th {\n",
       "        vertical-align: top;\n",
       "    }\n",
       "\n",
       "    .dataframe thead th {\n",
       "        text-align: right;\n",
       "    }\n",
       "</style>\n",
       "<table border=\"1\" class=\"dataframe\">\n",
       "  <thead>\n",
       "    <tr style=\"text-align: right;\">\n",
       "      <th></th>\n",
       "      <th>Id</th>\n",
       "      <th>ProductId</th>\n",
       "      <th>UserId</th>\n",
       "      <th>ProfileName</th>\n",
       "      <th>HelpfulnessNumerator</th>\n",
       "      <th>HelpfulnessDenominator</th>\n",
       "      <th>Score</th>\n",
       "      <th>Time</th>\n",
       "      <th>Summary</th>\n",
       "      <th>Text</th>\n",
       "    </tr>\n",
       "  </thead>\n",
       "  <tbody>\n",
       "    <tr>\n",
       "      <th>0</th>\n",
       "      <td>350.0</td>\n",
       "      <td>B00067AD4U</td>\n",
       "      <td>A2LYOWC3FC73XK</td>\n",
       "      <td>Michael Ekstrum \"\"expresso bean fan\"\"</td>\n",
       "      <td>1</td>\n",
       "      <td>1.0</td>\n",
       "      <td>5</td>\n",
       "      <td>2007-05-12</td>\n",
       "      <td>excellent - exactly what I expected</td>\n",
       "      <td>The product was exactly as advertised and fres...</td>\n",
       "    </tr>\n",
       "    <tr>\n",
       "      <th>1</th>\n",
       "      <td>439.0</td>\n",
       "      <td>B000G6RYNE</td>\n",
       "      <td>A926YP1BSD72Y</td>\n",
       "      <td>Shopper11</td>\n",
       "      <td>0</td>\n",
       "      <td>0.0</td>\n",
       "      <td>5</td>\n",
       "      <td>2011-11-20</td>\n",
       "      <td>Best gluten-free dairy-free chips</td>\n",
       "      <td>These are my favorite gluten-free dairy-free f...</td>\n",
       "    </tr>\n",
       "    <tr>\n",
       "      <th>2</th>\n",
       "      <td>446.0</td>\n",
       "      <td>B000G6RYNE</td>\n",
       "      <td>A19G8B2QYETD7W</td>\n",
       "      <td>NyahNyah</td>\n",
       "      <td>0</td>\n",
       "      <td>0.0</td>\n",
       "      <td>3</td>\n",
       "      <td>2011-02-13</td>\n",
       "      <td>Heavy on the Vinegar</td>\n",
       "      <td>I usually love Kettle Chips, and love salt &amp; v...</td>\n",
       "    </tr>\n",
       "    <tr>\n",
       "      <th>3</th>\n",
       "      <td>448.0</td>\n",
       "      <td>B000G6RYNE</td>\n",
       "      <td>ACFPHOYVB71V4</td>\n",
       "      <td>karob</td>\n",
       "      <td>0</td>\n",
       "      <td>0.0</td>\n",
       "      <td>5</td>\n",
       "      <td>2010-12-18</td>\n",
       "      <td>BEST BUY in BBQ Chips</td>\n",
       "      <td>Tried many varieties of BBQ chips and hands do...</td>\n",
       "    </tr>\n",
       "    <tr>\n",
       "      <th>4</th>\n",
       "      <td>452.0</td>\n",
       "      <td>B000G6RYNE</td>\n",
       "      <td>A2MUGFV2TDQ47K</td>\n",
       "      <td>Lynrie \"\"Oh HELL no\"\"</td>\n",
       "      <td>0</td>\n",
       "      <td>0.0</td>\n",
       "      <td>3</td>\n",
       "      <td>2010-11-05</td>\n",
       "      <td>An Acquired Taste</td>\n",
       "      <td>OK,I did read the reviews which ranged from sp...</td>\n",
       "    </tr>\n",
       "    <tr>\n",
       "      <th>...</th>\n",
       "      <td>...</td>\n",
       "      <td>...</td>\n",
       "      <td>...</td>\n",
       "      <td>...</td>\n",
       "      <td>...</td>\n",
       "      <td>...</td>\n",
       "      <td>...</td>\n",
       "      <td>...</td>\n",
       "      <td>...</td>\n",
       "      <td>...</td>\n",
       "    </tr>\n",
       "    <tr>\n",
       "      <th>29960</th>\n",
       "      <td>NaN</td>\n",
       "      <td>B00004RBDW</td>\n",
       "      <td>NaN</td>\n",
       "      <td>NaN</td>\n",
       "      <td>1</td>\n",
       "      <td>NaN</td>\n",
       "      <td>4</td>\n",
       "      <td>2025-09-01</td>\n",
       "      <td>Awesome fly killer</td>\n",
       "      <td>This thing works like a charm, it really does ...</td>\n",
       "    </tr>\n",
       "    <tr>\n",
       "      <th>29961</th>\n",
       "      <td>NaN</td>\n",
       "      <td>B00004RBDW</td>\n",
       "      <td>NaN</td>\n",
       "      <td>NaN</td>\n",
       "      <td>6</td>\n",
       "      <td>NaN</td>\n",
       "      <td>5</td>\n",
       "      <td>2025-08-05</td>\n",
       "      <td>Put this item 40 feet away from any window or ...</td>\n",
       "      <td>Very effective help me wipe out 100% of flys i...</td>\n",
       "    </tr>\n",
       "    <tr>\n",
       "      <th>29962</th>\n",
       "      <td>NaN</td>\n",
       "      <td>B00004RBDW</td>\n",
       "      <td>NaN</td>\n",
       "      <td>NaN</td>\n",
       "      <td>0</td>\n",
       "      <td>NaN</td>\n",
       "      <td>5</td>\n",
       "      <td>2025-09-08</td>\n",
       "      <td>Works great; odor is bad</td>\n",
       "      <td>Hung it up, within a day it had collected so m...</td>\n",
       "    </tr>\n",
       "    <tr>\n",
       "      <th>29963</th>\n",
       "      <td>NaN</td>\n",
       "      <td>B00004RBDW</td>\n",
       "      <td>NaN</td>\n",
       "      <td>NaN</td>\n",
       "      <td>2</td>\n",
       "      <td>NaN</td>\n",
       "      <td>3</td>\n",
       "      <td>2025-07-24</td>\n",
       "      <td>Bait refills not sold separately.</td>\n",
       "      <td>The trap works extremely well, and I'm happy w...</td>\n",
       "    </tr>\n",
       "    <tr>\n",
       "      <th>29964</th>\n",
       "      <td>NaN</td>\n",
       "      <td>B00004RBDW</td>\n",
       "      <td>NaN</td>\n",
       "      <td>NaN</td>\n",
       "      <td>1</td>\n",
       "      <td>NaN</td>\n",
       "      <td>4</td>\n",
       "      <td>2025-08-11</td>\n",
       "      <td>Great fly trap 👍🏼</td>\n",
       "      <td>The media could not be loaded.\\n              ...</td>\n",
       "    </tr>\n",
       "  </tbody>\n",
       "</table>\n",
       "<p>29965 rows × 10 columns</p>\n",
       "</div>"
      ]
     },
     "execution_count": 3,
     "metadata": {},
     "output_type": "execute_result"
    }
   ],
   "execution_count": 3
  },
  {
   "metadata": {
    "ExecuteTime": {
     "end_time": "2025-09-18T09:12:24.708864Z",
     "start_time": "2025-09-18T09:12:24.707592Z"
    }
   },
   "cell_type": "code",
   "source": "",
   "id": "70846dc9eca30737",
   "outputs": [],
   "execution_count": null
  },
  {
   "metadata": {
    "ExecuteTime": {
     "end_time": "2025-09-18T09:23:10.144945Z",
     "start_time": "2025-09-18T09:23:10.143505Z"
    }
   },
   "cell_type": "code",
   "source": "",
   "id": "75f56617756cfe01",
   "outputs": [],
   "execution_count": null
  },
  {
   "metadata": {
    "ExecuteTime": {
     "end_time": "2025-09-18T06:30:24.479095Z",
     "start_time": "2025-09-18T06:30:24.476885Z"
    }
   },
   "cell_type": "code",
   "source": "",
   "id": "a3ca1fa7f2901193",
   "outputs": [],
   "execution_count": 233
  },
  {
   "metadata": {
    "ExecuteTime": {
     "end_time": "2025-09-18T08:26:49.604151Z",
     "start_time": "2025-09-18T08:26:49.602952Z"
    }
   },
   "cell_type": "code",
   "source": "",
   "id": "f89923ee8af5227e",
   "outputs": [],
   "execution_count": null
  },
  {
   "metadata": {},
   "cell_type": "markdown",
   "source": [
    "## 4. Correlation Between Ratings and Product Descriptions\n",
    "\n",
    "### 4.1 Correlation with the number of sample images"
   ],
   "id": "5eb034bbb40ddf4"
  },
  {
   "metadata": {
    "ExecuteTime": {
     "end_time": "2025-09-18T09:31:09.577812Z",
     "start_time": "2025-09-18T09:31:09.502381Z"
    }
   },
   "cell_type": "code",
   "source": [
    "# Compute Spearman's correlation coefficient\n",
    "tmp = df_amazon_product_info[['Score', 'CountAltImages']].dropna()\n",
    "corr, p_value = spearmanr(tmp[\"Score\"], tmp[\"CountAltImages\"])\n",
    "\n",
    "print(f\"Spearman correlation coefficient: {corr:.4f}; P value: {p_value:.1e}\")\n",
    "\n",
    "df = df_amazon_product_info[df_amazon_product_info.NumRatings > 10].groupby(\"CountAltImages\").agg(\n",
    "    good_score_percent=(\"Score\", lambda x: (x > 4.5).mean()), n_samples=(\"Score\", \"count\"))\n",
    "ax = df.plot(y='n_samples', kind=\"bar\", color=\"skyblue\", width=0.6, figsize=(8, 5),\n",
    "             title=\"Good (score > 4.5) percent with number of sample images\", xlabel=\"Number of sample images\")\n",
    "df.plot(y=['good_score_percent'], ax=ax.twinx())"
   ],
   "id": "159e2adb36b3c891",
   "outputs": [
    {
     "name": "stdout",
     "output_type": "stream",
     "text": [
      "Spearman correlation coefficient: 0.2966; P value: 2.2e-59\n"
     ]
    },
    {
     "data": {
      "text/plain": [
       "<Axes: xlabel='CountAltImages'>"
      ]
     },
     "execution_count": 16,
     "metadata": {},
     "output_type": "execute_result"
    },
    {
     "data": {
      "text/plain": [
       "<Figure size 800x500 with 2 Axes>"
      ],
      "image/png": "[encoded data removed]"
     },
     "metadata": {},
     "output_type": "display_data"
    }
   ],
   "execution_count": 16
  },
  {
   "metadata": {
    "ExecuteTime": {
     "end_time": "2025-09-18T09:23:03.850561Z",
     "start_time": "2025-09-18T09:23:03.839692Z"
    }
   },
   "cell_type": "code",
   "outputs": [
    {
     "data": {
      "text/plain": [
       "                ProductId\n",
       "UserId                   \n",
       "A281NPSIMI1C2R         17\n",
       "A1YUL9PCJR3JTY         16\n",
       "A3OXHLG6DIBRW8         10\n",
       "AXO4PQU0XG3TG           7\n",
       "AQQLWCMRNDFGI           7\n",
       "...                   ...\n",
       "A2APZJZT4OAKBY          1\n",
       "A2AQWKT6IZCXZ3          1\n",
       "A2ARKTFI3SE722          1\n",
       "A2ARTDAE0C52E4          1\n",
       "AZZVNIMTTMJH6           1\n",
       "\n",
       "[9698 rows x 1 columns]"
      ],
      "text/html": [
       "<div>\n",
       "<style scoped>\n",
       "    .dataframe tbody tr th:only-of-type {\n",
       "        vertical-align: middle;\n",
       "    }\n",
       "\n",
       "    .dataframe tbody tr th {\n",
       "        vertical-align: top;\n",
       "    }\n",
       "\n",
       "    .dataframe thead th {\n",
       "        text-align: right;\n",
       "    }\n",
       "</style>\n",
       "<table border=\"1\" class=\"dataframe\">\n",
       "  <thead>\n",
       "    <tr style=\"text-align: right;\">\n",
       "      <th></th>\n",
       "      <th>ProductId</th>\n",
       "    </tr>\n",
       "    <tr>\n",
       "      <th>UserId</th>\n",
       "      <th></th>\n",
       "    </tr>\n",
       "  </thead>\n",
       "  <tbody>\n",
       "    <tr>\n",
       "      <th>A281NPSIMI1C2R</th>\n",
       "      <td>17</td>\n",
       "    </tr>\n",
       "    <tr>\n",
       "      <th>A1YUL9PCJR3JTY</th>\n",
       "      <td>16</td>\n",
       "    </tr>\n",
       "    <tr>\n",
       "      <th>A3OXHLG6DIBRW8</th>\n",
       "      <td>10</td>\n",
       "    </tr>\n",
       "    <tr>\n",
       "      <th>AXO4PQU0XG3TG</th>\n",
       "      <td>7</td>\n",
       "    </tr>\n",
       "    <tr>\n",
       "      <th>AQQLWCMRNDFGI</th>\n",
       "      <td>7</td>\n",
       "    </tr>\n",
       "    <tr>\n",
       "      <th>...</th>\n",
       "      <td>...</td>\n",
       "    </tr>\n",
       "    <tr>\n",
       "      <th>A2APZJZT4OAKBY</th>\n",
       "      <td>1</td>\n",
       "    </tr>\n",
       "    <tr>\n",
       "      <th>A2AQWKT6IZCXZ3</th>\n",
       "      <td>1</td>\n",
       "    </tr>\n",
       "    <tr>\n",
       "      <th>A2ARKTFI3SE722</th>\n",
       "      <td>1</td>\n",
       "    </tr>\n",
       "    <tr>\n",
       "      <th>A2ARTDAE0C52E4</th>\n",
       "      <td>1</td>\n",
       "    </tr>\n",
       "    <tr>\n",
       "      <th>AZZVNIMTTMJH6</th>\n",
       "      <td>1</td>\n",
       "    </tr>\n",
       "  </tbody>\n",
       "</table>\n",
       "<p>9698 rows × 1 columns</p>\n",
       "</div>"
      ]
     },
     "execution_count": 4,
     "metadata": {},
     "output_type": "execute_result"
    }
   ],
   "execution_count": 4,
   "source": [
    "df_amazon_food_reviews.pivot_table(index=['UserId'], values=['ProductId'], aggfunc='count').sort_values(\n",
    "    \"ProductId\", ascending=False)"
   ],
   "id": "21c401a37c27f5fb"
  },
  {
   "metadata": {
    "ExecuteTime": {
     "end_time": "2025-09-17T08:20:31.459793Z",
     "start_time": "2025-09-17T08:20:31.441641Z"
    }
   },
   "cell_type": "code",
   "outputs": [
    {
     "data": {
      "text/plain": [
       "            Summary\n",
       "ProductId          \n",
       "6641040           3\n",
       "7310172001       19\n",
       "7310172101       16\n",
       "B00002N8SM        3\n",
       "B00004CI84       23\n",
       "...             ...\n",
       "B000GZY8FC        4\n",
       "B000GZY8W0        2\n",
       "B000GZY942        2\n",
       "B000GZY9HY        2\n",
       "B000GZYAN2        9\n",
       "\n",
       "[1845 rows x 1 columns]"
      ],
      "text/html": [
       "<div>\n",
       "<style scoped>\n",
       "    .dataframe tbody tr th:only-of-type {\n",
       "        vertical-align: middle;\n",
       "    }\n",
       "\n",
       "    .dataframe tbody tr th {\n",
       "        vertical-align: top;\n",
       "    }\n",
       "\n",
       "    .dataframe thead th {\n",
       "        text-align: right;\n",
       "    }\n",
       "</style>\n",
       "<table border=\"1\" class=\"dataframe\">\n",
       "  <thead>\n",
       "    <tr style=\"text-align: right;\">\n",
       "      <th></th>\n",
       "      <th>Summary</th>\n",
       "    </tr>\n",
       "    <tr>\n",
       "      <th>ProductId</th>\n",
       "      <th></th>\n",
       "    </tr>\n",
       "  </thead>\n",
       "  <tbody>\n",
       "    <tr>\n",
       "      <th>6641040</th>\n",
       "      <td>3</td>\n",
       "    </tr>\n",
       "    <tr>\n",
       "      <th>7310172001</th>\n",
       "      <td>19</td>\n",
       "    </tr>\n",
       "    <tr>\n",
       "      <th>7310172101</th>\n",
       "      <td>16</td>\n",
       "    </tr>\n",
       "    <tr>\n",
       "      <th>B00002N8SM</th>\n",
       "      <td>3</td>\n",
       "    </tr>\n",
       "    <tr>\n",
       "      <th>B00004CI84</th>\n",
       "      <td>23</td>\n",
       "    </tr>\n",
       "    <tr>\n",
       "      <th>...</th>\n",
       "      <td>...</td>\n",
       "    </tr>\n",
       "    <tr>\n",
       "      <th>B000GZY8FC</th>\n",
       "      <td>4</td>\n",
       "    </tr>\n",
       "    <tr>\n",
       "      <th>B000GZY8W0</th>\n",
       "      <td>2</td>\n",
       "    </tr>\n",
       "    <tr>\n",
       "      <th>B000GZY942</th>\n",
       "      <td>2</td>\n",
       "    </tr>\n",
       "    <tr>\n",
       "      <th>B000GZY9HY</th>\n",
       "      <td>2</td>\n",
       "    </tr>\n",
       "    <tr>\n",
       "      <th>B000GZYAN2</th>\n",
       "      <td>9</td>\n",
       "    </tr>\n",
       "  </tbody>\n",
       "</table>\n",
       "<p>1845 rows × 1 columns</p>\n",
       "</div>"
      ]
     },
     "execution_count": 86,
     "metadata": {},
     "output_type": "execute_result"
    }
   ],
   "execution_count": 86,
   "source": [
    "p = df_amazon_food_reviews.pivot_table(index=['ProductId'], aggfunc='count')[[\"Summary\"]]\n",
    "p[p.Summary > 1]"
   ],
   "id": "b5ceff1c9e490115"
  },
  {
   "metadata": {
    "ExecuteTime": {
     "end_time": "2025-09-16T03:32:07.731299Z",
     "start_time": "2025-09-16T03:32:07.728940Z"
    }
   },
   "cell_type": "code",
   "outputs": [],
   "execution_count": 11,
   "source": "",
   "id": "221df243361f2147"
  },
  {
   "metadata": {
    "ExecuteTime": {
     "end_time": "2025-09-16T06:48:01.579649Z",
     "start_time": "2025-09-16T06:48:01.577183Z"
    }
   },
   "cell_type": "code",
   "outputs": [],
   "execution_count": 27,
   "source": "\n",
   "id": "fe4767548277996e"
  },
  {
   "metadata": {
    "ExecuteTime": {
     "end_time": "2025-09-16T06:48:03.119500Z",
     "start_time": "2025-09-16T06:48:03.117710Z"
    }
   },
   "cell_type": "code",
   "outputs": [],
   "execution_count": 27,
   "source": [
    "\n",
    "\n"
   ],
   "id": "2a2b4d98d2d062b5"
  },
  {
   "metadata": {
    "ExecuteTime": {
     "end_time": "2025-09-18T09:25:50.665110Z",
     "start_time": "2025-09-18T09:25:50.656838Z"
    }
   },
   "cell_type": "code",
   "outputs": [],
   "execution_count": 6,
   "source": [
    "df_amazon_product_info = df_amazon_product_info[\n",
    "    df_amazon_product_info.category.apply(lambda x: sum(['food' in e.lower() for e in x])) > 0]\n"
   ],
   "id": "ca248ed6ba740501"
  },
  {
   "metadata": {
    "ExecuteTime": {
     "end_time": "2025-09-18T06:51:24.791171Z",
     "start_time": "2025-09-18T06:51:24.743062Z"
    }
   },
   "cell_type": "code",
   "outputs": [
    {
     "data": {
      "text/plain": [
       "<Axes: xlabel='Score', ylabel='ScorePolarizationIndex'>"
      ]
     },
     "execution_count": 248,
     "metadata": {},
     "output_type": "execute_result"
    },
    {
     "data": {
      "text/plain": [
       "<Figure size 640x480 with 1 Axes>"
      ],
      "image/png": "[encoded data removed]"
     },
     "metadata": {},
     "output_type": "display_data"
    }
   ],
   "execution_count": 248,
   "source": [
    "df_amazon_product_info[df_amazon_product_info.NumRatings > 20].plot.scatter(x='Score', y='ScorePolarizationIndex',\n",
    "                                                                            alpha=0.03)"
   ],
   "id": "8782373075afa6a8"
  },
  {
   "metadata": {
    "ExecuteTime": {
     "end_time": "2025-09-18T06:55:32.984926Z",
     "start_time": "2025-09-18T06:55:32.944711Z"
    }
   },
   "cell_type": "code",
   "outputs": [
    {
     "data": {
      "text/plain": [
       "<Axes: >"
      ]
     },
     "execution_count": 255,
     "metadata": {},
     "output_type": "execute_result"
    },
    {
     "data": {
      "text/plain": [
       "<Figure size 640x480 with 1 Axes>"
      ],
      "image/png": "[encoded data removed]"
     },
     "metadata": {},
     "output_type": "display_data"
    }
   ],
   "execution_count": 255,
   "source": "df_amazon_product_info[df_amazon_product_info.NumRatings > 20].Score.hist(bins=10)",
   "id": "e20d06abac9b4661"
  },
  {
   "metadata": {
    "ExecuteTime": {
     "end_time": "2025-09-18T09:27:54.079287Z",
     "start_time": "2025-09-18T09:27:54.077918Z"
    }
   },
   "cell_type": "code",
   "source": "",
   "id": "e056ef20a11d528b",
   "outputs": [],
   "execution_count": null
  },
  {
   "metadata": {
    "ExecuteTime": {
     "end_time": "2025-09-18T09:27:54.832174Z",
     "start_time": "2025-09-18T09:27:54.830748Z"
    }
   },
   "cell_type": "code",
   "source": "",
   "id": "6c25032850d0a86b",
   "outputs": [],
   "execution_count": null
  },
  {
   "metadata": {
    "ExecuteTime": {
     "end_time": "2025-09-16T07:12:20.573770Z",
     "start_time": "2025-09-16T07:12:20.571648Z"
    }
   },
   "cell_type": "code",
   "source": "",
   "id": "293c051debc63647",
   "outputs": [],
   "execution_count": null
  },
  {
   "metadata": {},
   "cell_type": "code",
   "outputs": [],
   "execution_count": null,
   "source": "",
   "id": "3f18daabf58e80f4"
  }
 ],
 "metadata": {
  "kernelspec": {
   "display_name": "Python 3",
   "language": "python",
   "name": "python3"
  },
  "language_info": {
   "codemirror_mode": {
    "name": "ipython",
    "version": 2
   },
   "file_extension": ".py",
   "mimetype": "text/x-python",
   "name": "python",
   "nbconvert_exporter": "python",
   "pygments_lexer": "ipython2",
   "version": "2.7.6"
  }
 },
 "nbformat": 4,
 "nbformat_minor": 5
}
