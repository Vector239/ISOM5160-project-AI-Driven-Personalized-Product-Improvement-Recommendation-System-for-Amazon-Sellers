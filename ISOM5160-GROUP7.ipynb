{
 "cells": [
  {
   "cell_type": "code",
   "id": "initial_id",
   "metadata": {
    "collapsed": true
   },
   "source": "!pip install -r requirements.txt",
   "outputs": [],
   "execution_count": null
  },
  {
   "metadata": {
    "ExecuteTime": {
     "end_time": "2025-09-13T15:35:34.275881Z",
     "start_time": "2025-09-13T15:35:33.685763Z"
    }
   },
   "cell_type": "code",
   "source": [
    "from amazon_new_data_scraping import parallel_scrape_amazon_product_info\n",
    "import pandas as pd\n",
    "\n",
    "df_amazon_food_reviews = pd.read_csv('amazon_food_reviews.csv')"
   ],
   "id": "96ff14f8727ce43f",
   "outputs": [],
   "execution_count": 1
  },
  {
   "metadata": {
    "ExecuteTime": {
     "end_time": "2025-09-13T15:36:03.713579Z",
     "start_time": "2025-09-13T15:36:02.324595Z"
    }
   },
   "cell_type": "code",
   "source": [
    "product_id_list = list(df_amazon_food_reviews.ProductId.unique())\n",
    "print(f\"Total number of products: {len(product_id_list)}\")\n",
    "print(\"Start scraping data...\")\n",
    "parallel_scrape_amazon_product_info(product_id_list, replace=False)\n",
    "print(\"Scraping finished.\")"
   ],
   "id": "9f3c3bdd7fe6b7c9",
   "outputs": [
    {
     "name": "stdout",
     "output_type": "stream",
     "text": [
      "Total number of products: 4322\n",
      "Start scraping data...\n",
      "Using 12 CPU cores for parallel scraping\n"
     ]
    },
    {
     "name": "stderr",
     "output_type": "stream",
     "text": [
      "Scraping amazon products: 100%|██████████| 4322/4322 [00:01<00:00, 4217.97it/s]"
     ]
    },
    {
     "name": "stdout",
     "output_type": "stream",
     "text": [
      "Successfully scraped 4322/4322 products\n",
      "Scraping finished.\n"
     ]
    },
    {
     "name": "stderr",
     "output_type": "stream",
     "text": [
      "\n"
     ]
    }
   ],
   "execution_count": 3
  },
  {
   "metadata": {
    "ExecuteTime": {
     "end_time": "2025-09-13T15:30:28.722958Z",
     "start_time": "2025-09-13T15:30:28.721674Z"
    }
   },
   "cell_type": "code",
   "source": "",
   "id": "b5ceff1c9e490115",
   "outputs": [],
   "execution_count": null
  },
  {
   "metadata": {
    "ExecuteTime": {
     "end_time": "2025-09-13T15:30:28.880095Z",
     "start_time": "2025-09-13T15:30:28.878746Z"
    }
   },
   "cell_type": "code",
   "source": "",
   "id": "9928c18844b621a5",
   "outputs": [],
   "execution_count": null
  },
  {
   "metadata": {},
   "cell_type": "code",
   "outputs": [],
   "execution_count": null,
   "source": "",
   "id": "221df243361f2147"
  }
 ],
 "metadata": {
  "kernelspec": {
   "display_name": "Python 3",
   "language": "python",
   "name": "python3"
  },
  "language_info": {
   "codemirror_mode": {
    "name": "ipython",
    "version": 2
   },
   "file_extension": ".py",
   "mimetype": "text/x-python",
   "name": "python",
   "nbconvert_exporter": "python",
   "pygments_lexer": "ipython2",
   "version": "2.7.6"
  }
 },
 "nbformat": 4,
 "nbformat_minor": 5
}
